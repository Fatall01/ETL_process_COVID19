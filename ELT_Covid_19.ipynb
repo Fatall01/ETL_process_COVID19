{
 "cells": [
  {
   "cell_type": "markdown",
   "metadata": {},
   "source": [
    "# Designing an ETL process for COVID-19 related protein data\n"
   ]
  },
  {
   "cell_type": "markdown",
   "metadata": {},
   "source": [
    "In this Jupyter notebook, I builded a data science/engineering project that is aiming to extract biological data from different sources with different techniques. The extracted data was transformed (cleaning) using pandas and loaded into MySQL. A schema was created to connect the data.\n",
    "\n",
    "***1. Data extraction from:***\n",
    "\n",
    "***ChEMBL Data Web Services***\n",
    "- Overview of covid-19 data\n",
    "- Target data\n",
    "- Activity data\n",
    "- Assay data\n",
    "\n",
    "***UniProt***\n",
    "- Retrieve ID/mapping service: from ChEMBL to UniProtKB\n",
    "- Download xlsx file\n",
    "\n",
    "***2. Data transformation***\n",
    "- Data cleaning\n",
    "- Dropping columns\n",
    "- Renaming columns \n",
    "- Dealing with missing values\n",
    "- Remove the duplicated data\n",
    "\n",
    "***3. Connecting python to MySQL and data loading***\n",
    "- Use SQLAlchemy to connect python to MySQl\n",
    "- Create a MySQL Schema"
   ]
  },
  {
   "cell_type": "markdown",
   "metadata": {},
   "source": [
    "# 1. Data extraction"
   ]
  },
  {
   "cell_type": "markdown",
   "metadata": {
    "id": "_pjjBK3OIWJd"
   },
   "source": [
    "### Installing and Importing libraries"
   ]
  },
  {
   "cell_type": "code",
   "execution_count": 24,
   "metadata": {
    "id": "zjJGwDlMJkdb"
   },
   "outputs": [],
   "source": [
    "#!pip install chembl_webresource_client"
   ]
  },
  {
   "cell_type": "code",
   "execution_count": 25,
   "metadata": {
    "id": "epmgrWTWIVb2"
   },
   "outputs": [],
   "source": [
    "# Import necessary libraries\n",
    "import pandas as pd #import pandas library \n",
    "import numpy as np #import pandas library \n",
    "from chembl_webresource_client.new_client import new_client #Import ChEMBL python client\n",
    "import sqlalchemy #import sqlalchemy"
   ]
  },
  {
   "cell_type": "markdown",
   "metadata": {
    "id": "_OHPUHJdUSpT"
   },
   "source": [
    "### Available data entities"
   ]
  },
  {
   "cell_type": "code",
   "execution_count": 179,
   "metadata": {
    "colab": {
     "base_uri": "https://localhost:8080/"
    },
    "id": "S1l5Bb6yUMMj",
    "outputId": "281c345a-1447-46bf-835f-8a4cef577785"
   },
   "outputs": [
    {
     "name": "stdout",
     "output_type": "stream",
     "text": [
      "['activity', 'activity_supplementary_data_by_activity', 'assay', 'assay_class', 'atc_class', 'binding_site', 'biotherapeutic', 'cell_line', 'chembl_id_lookup', 'compound_record', 'compound_structural_alert', 'description', 'document', 'document_similarity', 'drug', 'drug_indication', 'drug_warning', 'go_slim', 'image', 'mechanism', 'metabolism', 'molecule', 'molecule_form', 'official', 'organism', 'protein_class', 'similarity', 'source', 'substructure', 'target', 'target_component', 'target_relation', 'tissue', 'xref_source']\n"
     ]
    }
   ],
   "source": [
    "available_resources = [resource for resource in dir(new_client) if not resource.startswith('_')]\n",
    "print(available_resources)"
   ]
  },
  {
   "cell_type": "markdown",
   "metadata": {
    "id": "WVTuCHi7IwXm"
   },
   "source": [
    "### Search for Target protein,  Activity and Assay\n"
   ]
  },
  {
   "cell_type": "markdown",
   "metadata": {},
   "source": [
    "#### Target"
   ]
  },
  {
   "cell_type": "code",
   "execution_count": 180,
   "metadata": {
    "colab": {
     "base_uri": "https://localhost:8080/",
     "height": 302
    },
    "id": "6SGhvCDWII2z",
    "outputId": "8c1d4e72-f244-4daa-da10-ad5f648d3108"
   },
   "outputs": [
    {
     "data": {
      "text/html": [
       "<div>\n",
       "<style scoped>\n",
       "    .dataframe tbody tr th:only-of-type {\n",
       "        vertical-align: middle;\n",
       "    }\n",
       "\n",
       "    .dataframe tbody tr th {\n",
       "        vertical-align: top;\n",
       "    }\n",
       "\n",
       "    .dataframe thead th {\n",
       "        text-align: right;\n",
       "    }\n",
       "</style>\n",
       "<table border=\"1\" class=\"dataframe\">\n",
       "  <thead>\n",
       "    <tr style=\"text-align: right;\">\n",
       "      <th></th>\n",
       "      <th>cross_references</th>\n",
       "      <th>organism</th>\n",
       "      <th>pref_name</th>\n",
       "      <th>score</th>\n",
       "      <th>species_group_flag</th>\n",
       "      <th>target_chembl_id</th>\n",
       "      <th>target_components</th>\n",
       "      <th>target_type</th>\n",
       "      <th>tax_id</th>\n",
       "    </tr>\n",
       "  </thead>\n",
       "  <tbody>\n",
       "    <tr>\n",
       "      <th>0</th>\n",
       "      <td>[{'xref_id': 'Q712U5', 'xref_name': None, 'xre...</td>\n",
       "      <td>Rattus norvegicus</td>\n",
       "      <td>cyclic AMP phosphoprotein</td>\n",
       "      <td>15.0</td>\n",
       "      <td>False</td>\n",
       "      <td>CHEMBL2170</td>\n",
       "      <td>[{'accession': 'Q712U5', 'component_descriptio...</td>\n",
       "      <td>SINGLE PROTEIN</td>\n",
       "      <td>10116</td>\n",
       "    </tr>\n",
       "    <tr>\n",
       "      <th>1</th>\n",
       "      <td>[]</td>\n",
       "      <td>Homo sapiens</td>\n",
       "      <td>KU-19-19</td>\n",
       "      <td>15.0</td>\n",
       "      <td>False</td>\n",
       "      <td>CHEMBL1075483</td>\n",
       "      <td>[]</td>\n",
       "      <td>CELL-LINE</td>\n",
       "      <td>9606</td>\n",
       "    </tr>\n",
       "  </tbody>\n",
       "</table>\n",
       "</div>"
      ],
      "text/plain": [
       "                                    cross_references           organism  \\\n",
       "0  [{'xref_id': 'Q712U5', 'xref_name': None, 'xre...  Rattus norvegicus   \n",
       "1                                                 []       Homo sapiens   \n",
       "\n",
       "                   pref_name  score  species_group_flag target_chembl_id  \\\n",
       "0  cyclic AMP phosphoprotein   15.0               False       CHEMBL2170   \n",
       "1                   KU-19-19   15.0               False    CHEMBL1075483   \n",
       "\n",
       "                                   target_components     target_type  tax_id  \n",
       "0  [{'accession': 'Q712U5', 'component_descriptio...  SINGLE PROTEIN   10116  \n",
       "1                                                 []       CELL-LINE    9606  "
      ]
     },
     "execution_count": 180,
     "metadata": {},
     "output_type": "execute_result"
    }
   ],
   "source": [
    "# Target search for covid-19 and get the overview target table (50 rows)\n",
    "target = new_client.target\n",
    "target_query = target.search('covid-19')\n",
    "targets_overview = pd.DataFrame.from_dict(target_query)\n",
    "targets_overview.head(2)"
   ]
  },
  {
   "cell_type": "code",
   "execution_count": 181,
   "metadata": {
    "colab": {
     "base_uri": "https://localhost:8080/",
     "height": 206
    },
    "id": "RO5AVpwiNFQM",
    "outputId": "1b94b320-e623-4219-c186-a9aed64a6911"
   },
   "outputs": [
    {
     "data": {
      "text/html": [
       "<div>\n",
       "<style scoped>\n",
       "    .dataframe tbody tr th:only-of-type {\n",
       "        vertical-align: middle;\n",
       "    }\n",
       "\n",
       "    .dataframe tbody tr th {\n",
       "        vertical-align: top;\n",
       "    }\n",
       "\n",
       "    .dataframe thead th {\n",
       "        text-align: right;\n",
       "    }\n",
       "</style>\n",
       "<table border=\"1\" class=\"dataframe\">\n",
       "  <thead>\n",
       "    <tr style=\"text-align: right;\">\n",
       "      <th></th>\n",
       "      <th>organism</th>\n",
       "      <th>pref_name</th>\n",
       "      <th>score</th>\n",
       "      <th>species_group_flag</th>\n",
       "      <th>target_chembl_id</th>\n",
       "      <th>target_type</th>\n",
       "      <th>tax_id</th>\n",
       "    </tr>\n",
       "  </thead>\n",
       "  <tbody>\n",
       "    <tr>\n",
       "      <th>0</th>\n",
       "      <td>Rattus norvegicus</td>\n",
       "      <td>cyclic AMP phosphoprotein</td>\n",
       "      <td>15.0</td>\n",
       "      <td>False</td>\n",
       "      <td>CHEMBL2170</td>\n",
       "      <td>SINGLE PROTEIN</td>\n",
       "      <td>10116</td>\n",
       "    </tr>\n",
       "    <tr>\n",
       "      <th>1</th>\n",
       "      <td>Homo sapiens</td>\n",
       "      <td>KU-19-19</td>\n",
       "      <td>15.0</td>\n",
       "      <td>False</td>\n",
       "      <td>CHEMBL1075483</td>\n",
       "      <td>CELL-LINE</td>\n",
       "      <td>9606</td>\n",
       "    </tr>\n",
       "  </tbody>\n",
       "</table>\n",
       "</div>"
      ],
      "text/plain": [
       "            organism                  pref_name  score  species_group_flag  \\\n",
       "0  Rattus norvegicus  cyclic AMP phosphoprotein   15.0               False   \n",
       "1       Homo sapiens                   KU-19-19   15.0               False   \n",
       "\n",
       "  target_chembl_id     target_type  tax_id  \n",
       "0       CHEMBL2170  SINGLE PROTEIN   10116  \n",
       "1    CHEMBL1075483       CELL-LINE    9606  "
      ]
     },
     "execution_count": 181,
     "metadata": {},
     "output_type": "execute_result"
    }
   ],
   "source": [
    "#drop columns cross_references\n",
    "targets_overview = targets_overview.drop(['cross_references', 'target_components'], axis=1)\n",
    "targets_overview.head(2)"
   ]
  },
  {
   "cell_type": "code",
   "execution_count": 207,
   "metadata": {},
   "outputs": [
    {
     "data": {
      "text/plain": [
       "Index(['organism', 'pref_name', 'score', 'species_group_flag',\n",
       "       'target_chembl_id', 'target_type', 'tax_id'],\n",
       "      dtype='object')"
      ]
     },
     "execution_count": 207,
     "metadata": {},
     "output_type": "execute_result"
    }
   ],
   "source": [
    "targets_overview.columns"
   ]
  },
  {
   "cell_type": "code",
   "execution_count": 182,
   "metadata": {
    "colab": {
     "base_uri": "https://localhost:8080/"
    },
    "id": "pBbmW58XPG3a",
    "outputId": "3f1a9425-2133-472f-ecdb-0583942b9627"
   },
   "outputs": [
    {
     "name": "stdout",
     "output_type": "stream",
     "text": [
      "<class 'pandas.core.frame.DataFrame'>\n",
      "RangeIndex: 50 entries, 0 to 49\n",
      "Data columns (total 7 columns):\n",
      " #   Column              Non-Null Count  Dtype  \n",
      "---  ------              --------------  -----  \n",
      " 0   organism            50 non-null     object \n",
      " 1   pref_name           50 non-null     object \n",
      " 2   score               50 non-null     float64\n",
      " 3   species_group_flag  50 non-null     bool   \n",
      " 4   target_chembl_id    50 non-null     object \n",
      " 5   target_type         50 non-null     object \n",
      " 6   tax_id              50 non-null     int64  \n",
      "dtypes: bool(1), float64(1), int64(1), object(4)\n",
      "memory usage: 2.5+ KB\n"
     ]
    }
   ],
   "source": [
    "#get table info, the overview table must have 50 rows\n",
    "targets_overview.info()"
   ]
  },
  {
   "cell_type": "code",
   "execution_count": 183,
   "metadata": {},
   "outputs": [
    {
     "data": {
      "text/plain": [
       "'CHEMBL3883323'"
      ]
     },
     "execution_count": 183,
     "metadata": {},
     "output_type": "execute_result"
    }
   ],
   "source": [
    "# Target search from targets_overview and get the activity table\n",
    "selected_target = targets_overview.target_chembl_id[19]\n",
    "selected_target"
   ]
  },
  {
   "cell_type": "markdown",
   "metadata": {},
   "source": [
    "#### Activity"
   ]
  },
  {
   "cell_type": "code",
   "execution_count": 188,
   "metadata": {
    "scrolled": false
   },
   "outputs": [
    {
     "data": {
      "text/html": [
       "<div>\n",
       "<style scoped>\n",
       "    .dataframe tbody tr th:only-of-type {\n",
       "        vertical-align: middle;\n",
       "    }\n",
       "\n",
       "    .dataframe tbody tr th {\n",
       "        vertical-align: top;\n",
       "    }\n",
       "\n",
       "    .dataframe thead th {\n",
       "        text-align: right;\n",
       "    }\n",
       "</style>\n",
       "<table border=\"1\" class=\"dataframe\">\n",
       "  <thead>\n",
       "    <tr style=\"text-align: right;\">\n",
       "      <th></th>\n",
       "      <th>activity_comment</th>\n",
       "      <th>activity_id</th>\n",
       "      <th>activity_properties</th>\n",
       "      <th>assay_chembl_id</th>\n",
       "      <th>assay_description</th>\n",
       "      <th>assay_type</th>\n",
       "      <th>assay_variant_accession</th>\n",
       "      <th>assay_variant_mutation</th>\n",
       "      <th>bao_endpoint</th>\n",
       "      <th>bao_format</th>\n",
       "      <th>...</th>\n",
       "      <th>target_organism</th>\n",
       "      <th>target_pref_name</th>\n",
       "      <th>target_tax_id</th>\n",
       "      <th>text_value</th>\n",
       "      <th>toid</th>\n",
       "      <th>type</th>\n",
       "      <th>units</th>\n",
       "      <th>uo_units</th>\n",
       "      <th>upper_value</th>\n",
       "      <th>value</th>\n",
       "    </tr>\n",
       "  </thead>\n",
       "  <tbody>\n",
       "    <tr>\n",
       "      <th>0</th>\n",
       "      <td>None</td>\n",
       "      <td>16508071</td>\n",
       "      <td>[]</td>\n",
       "      <td>CHEMBL3779201</td>\n",
       "      <td>Binding affinity to CDK19/Cyclin C (unknown or...</td>\n",
       "      <td>B</td>\n",
       "      <td>None</td>\n",
       "      <td>None</td>\n",
       "      <td>BAO_0000190</td>\n",
       "      <td>BAO_0000223</td>\n",
       "      <td>...</td>\n",
       "      <td>Homo sapiens</td>\n",
       "      <td>Cyclin-C/Cyclin-dependent kinase 19</td>\n",
       "      <td>9606</td>\n",
       "      <td>None</td>\n",
       "      <td>None</td>\n",
       "      <td>IC50</td>\n",
       "      <td>nM</td>\n",
       "      <td>UO_0000065</td>\n",
       "      <td>None</td>\n",
       "      <td>26.0</td>\n",
       "    </tr>\n",
       "    <tr>\n",
       "      <th>1</th>\n",
       "      <td>None</td>\n",
       "      <td>16509067</td>\n",
       "      <td>[]</td>\n",
       "      <td>CHEMBL3779201</td>\n",
       "      <td>Binding affinity to CDK19/Cyclin C (unknown or...</td>\n",
       "      <td>B</td>\n",
       "      <td>None</td>\n",
       "      <td>None</td>\n",
       "      <td>BAO_0000190</td>\n",
       "      <td>BAO_0000223</td>\n",
       "      <td>...</td>\n",
       "      <td>Homo sapiens</td>\n",
       "      <td>Cyclin-C/Cyclin-dependent kinase 19</td>\n",
       "      <td>9606</td>\n",
       "      <td>None</td>\n",
       "      <td>None</td>\n",
       "      <td>IC50</td>\n",
       "      <td>nM</td>\n",
       "      <td>UO_0000065</td>\n",
       "      <td>None</td>\n",
       "      <td>4.0</td>\n",
       "    </tr>\n",
       "  </tbody>\n",
       "</table>\n",
       "<p>2 rows × 45 columns</p>\n",
       "</div>"
      ],
      "text/plain": [
       "  activity_comment  activity_id activity_properties assay_chembl_id  \\\n",
       "0             None     16508071                  []   CHEMBL3779201   \n",
       "1             None     16509067                  []   CHEMBL3779201   \n",
       "\n",
       "                                   assay_description assay_type  \\\n",
       "0  Binding affinity to CDK19/Cyclin C (unknown or...          B   \n",
       "1  Binding affinity to CDK19/Cyclin C (unknown or...          B   \n",
       "\n",
       "  assay_variant_accession assay_variant_mutation bao_endpoint   bao_format  \\\n",
       "0                    None                   None  BAO_0000190  BAO_0000223   \n",
       "1                    None                   None  BAO_0000190  BAO_0000223   \n",
       "\n",
       "   ... target_organism                     target_pref_name target_tax_id  \\\n",
       "0  ...    Homo sapiens  Cyclin-C/Cyclin-dependent kinase 19          9606   \n",
       "1  ...    Homo sapiens  Cyclin-C/Cyclin-dependent kinase 19          9606   \n",
       "\n",
       "  text_value  toid  type  units    uo_units upper_value value  \n",
       "0       None  None  IC50     nM  UO_0000065        None  26.0  \n",
       "1       None  None  IC50     nM  UO_0000065        None   4.0  \n",
       "\n",
       "[2 rows x 45 columns]"
      ]
     },
     "execution_count": 188,
     "metadata": {},
     "output_type": "execute_result"
    }
   ],
   "source": [
    "activity = new_client.activity\n",
    "res1 = activity.filter(target_chembl_id=selected_target)\n",
    "activity = pd.DataFrame(res1)\n",
    "activity.head(2)"
   ]
  },
  {
   "cell_type": "code",
   "execution_count": 189,
   "metadata": {},
   "outputs": [
    {
     "data": {
      "text/plain": [
       "Index(['activity_comment', 'activity_id', 'activity_properties',\n",
       "       'assay_chembl_id', 'assay_description', 'assay_type',\n",
       "       'assay_variant_accession', 'assay_variant_mutation', 'bao_endpoint',\n",
       "       'bao_format', 'bao_label', 'canonical_smiles', 'data_validity_comment',\n",
       "       'data_validity_description', 'document_chembl_id', 'document_journal',\n",
       "       'document_year', 'ligand_efficiency', 'molecule_chembl_id',\n",
       "       'molecule_pref_name', 'parent_molecule_chembl_id', 'pchembl_value',\n",
       "       'potential_duplicate', 'qudt_units', 'record_id', 'relation', 'src_id',\n",
       "       'standard_flag', 'standard_relation', 'standard_text_value',\n",
       "       'standard_type', 'standard_units', 'standard_upper_value',\n",
       "       'standard_value', 'target_chembl_id', 'target_organism',\n",
       "       'target_pref_name', 'target_tax_id', 'text_value', 'toid', 'type',\n",
       "       'units', 'uo_units', 'upper_value', 'value'],\n",
       "      dtype='object')"
      ]
     },
     "execution_count": 189,
     "metadata": {},
     "output_type": "execute_result"
    }
   ],
   "source": [
    "activity.columns"
   ]
  },
  {
   "cell_type": "code",
   "execution_count": 190,
   "metadata": {
    "scrolled": true
   },
   "outputs": [
    {
     "data": {
      "text/html": [
       "<div>\n",
       "<style scoped>\n",
       "    .dataframe tbody tr th:only-of-type {\n",
       "        vertical-align: middle;\n",
       "    }\n",
       "\n",
       "    .dataframe tbody tr th {\n",
       "        vertical-align: top;\n",
       "    }\n",
       "\n",
       "    .dataframe thead th {\n",
       "        text-align: right;\n",
       "    }\n",
       "</style>\n",
       "<table border=\"1\" class=\"dataframe\">\n",
       "  <thead>\n",
       "    <tr style=\"text-align: right;\">\n",
       "      <th></th>\n",
       "      <th>activity_id</th>\n",
       "      <th>assay_chembl_id</th>\n",
       "      <th>assay_description</th>\n",
       "      <th>assay_type</th>\n",
       "      <th>bao_endpoint</th>\n",
       "      <th>bao_format</th>\n",
       "      <th>bao_label</th>\n",
       "      <th>document_chembl_id</th>\n",
       "      <th>document_journal</th>\n",
       "      <th>document_year</th>\n",
       "      <th>...</th>\n",
       "      <th>standard_type</th>\n",
       "      <th>standard_units</th>\n",
       "      <th>standard_value</th>\n",
       "      <th>target_chembl_id</th>\n",
       "      <th>target_organism</th>\n",
       "      <th>target_pref_name</th>\n",
       "      <th>target_tax_id</th>\n",
       "      <th>type</th>\n",
       "      <th>units</th>\n",
       "      <th>value</th>\n",
       "    </tr>\n",
       "  </thead>\n",
       "  <tbody>\n",
       "    <tr>\n",
       "      <th>0</th>\n",
       "      <td>16508071</td>\n",
       "      <td>CHEMBL3779201</td>\n",
       "      <td>Binding affinity to CDK19/Cyclin C (unknown or...</td>\n",
       "      <td>B</td>\n",
       "      <td>BAO_0000190</td>\n",
       "      <td>BAO_0000223</td>\n",
       "      <td>protein complex format</td>\n",
       "      <td>CHEMBL3774357</td>\n",
       "      <td>Bioorg. Med. Chem. Lett.</td>\n",
       "      <td>2016.0</td>\n",
       "      <td>...</td>\n",
       "      <td>IC50</td>\n",
       "      <td>nM</td>\n",
       "      <td>26.0</td>\n",
       "      <td>CHEMBL3883323</td>\n",
       "      <td>Homo sapiens</td>\n",
       "      <td>Cyclin-C/Cyclin-dependent kinase 19</td>\n",
       "      <td>9606</td>\n",
       "      <td>IC50</td>\n",
       "      <td>nM</td>\n",
       "      <td>26.0</td>\n",
       "    </tr>\n",
       "    <tr>\n",
       "      <th>1</th>\n",
       "      <td>16509067</td>\n",
       "      <td>CHEMBL3779201</td>\n",
       "      <td>Binding affinity to CDK19/Cyclin C (unknown or...</td>\n",
       "      <td>B</td>\n",
       "      <td>BAO_0000190</td>\n",
       "      <td>BAO_0000223</td>\n",
       "      <td>protein complex format</td>\n",
       "      <td>CHEMBL3774357</td>\n",
       "      <td>Bioorg. Med. Chem. Lett.</td>\n",
       "      <td>2016.0</td>\n",
       "      <td>...</td>\n",
       "      <td>IC50</td>\n",
       "      <td>nM</td>\n",
       "      <td>4.0</td>\n",
       "      <td>CHEMBL3883323</td>\n",
       "      <td>Homo sapiens</td>\n",
       "      <td>Cyclin-C/Cyclin-dependent kinase 19</td>\n",
       "      <td>9606</td>\n",
       "      <td>IC50</td>\n",
       "      <td>nM</td>\n",
       "      <td>4.0</td>\n",
       "    </tr>\n",
       "    <tr>\n",
       "      <th>2</th>\n",
       "      <td>16509069</td>\n",
       "      <td>CHEMBL3779202</td>\n",
       "      <td>Binding affinity to CDK19/Cyclin C (unknown or...</td>\n",
       "      <td>B</td>\n",
       "      <td>BAO_0000179</td>\n",
       "      <td>BAO_0000223</td>\n",
       "      <td>protein complex format</td>\n",
       "      <td>CHEMBL3774357</td>\n",
       "      <td>Bioorg. Med. Chem. Lett.</td>\n",
       "      <td>2016.0</td>\n",
       "      <td>...</td>\n",
       "      <td>TIME</td>\n",
       "      <td>hr</td>\n",
       "      <td>1.0</td>\n",
       "      <td>CHEMBL3883323</td>\n",
       "      <td>Homo sapiens</td>\n",
       "      <td>Cyclin-C/Cyclin-dependent kinase 19</td>\n",
       "      <td>9606</td>\n",
       "      <td>Time</td>\n",
       "      <td>min</td>\n",
       "      <td>60.0</td>\n",
       "    </tr>\n",
       "    <tr>\n",
       "      <th>3</th>\n",
       "      <td>16573757</td>\n",
       "      <td>CHEMBL3803437</td>\n",
       "      <td>Binding affinity to human CDK19 (1 to 502 amin...</td>\n",
       "      <td>B</td>\n",
       "      <td>BAO_0000190</td>\n",
       "      <td>BAO_0000223</td>\n",
       "      <td>protein complex format</td>\n",
       "      <td>CHEMBL3797072</td>\n",
       "      <td>J. Med. Chem.</td>\n",
       "      <td>2016.0</td>\n",
       "      <td>...</td>\n",
       "      <td>IC50</td>\n",
       "      <td>nM</td>\n",
       "      <td>2.5</td>\n",
       "      <td>CHEMBL3883323</td>\n",
       "      <td>Homo sapiens</td>\n",
       "      <td>Cyclin-C/Cyclin-dependent kinase 19</td>\n",
       "      <td>9606</td>\n",
       "      <td>IC50</td>\n",
       "      <td>nM</td>\n",
       "      <td>2.5</td>\n",
       "    </tr>\n",
       "    <tr>\n",
       "      <th>4</th>\n",
       "      <td>16573763</td>\n",
       "      <td>CHEMBL3803437</td>\n",
       "      <td>Binding affinity to human CDK19 (1 to 502 amin...</td>\n",
       "      <td>B</td>\n",
       "      <td>BAO_0000190</td>\n",
       "      <td>BAO_0000223</td>\n",
       "      <td>protein complex format</td>\n",
       "      <td>CHEMBL3797072</td>\n",
       "      <td>J. Med. Chem.</td>\n",
       "      <td>2016.0</td>\n",
       "      <td>...</td>\n",
       "      <td>IC50</td>\n",
       "      <td>nM</td>\n",
       "      <td>1.4</td>\n",
       "      <td>CHEMBL3883323</td>\n",
       "      <td>Homo sapiens</td>\n",
       "      <td>Cyclin-C/Cyclin-dependent kinase 19</td>\n",
       "      <td>9606</td>\n",
       "      <td>IC50</td>\n",
       "      <td>nM</td>\n",
       "      <td>1.4</td>\n",
       "    </tr>\n",
       "    <tr>\n",
       "      <th>...</th>\n",
       "      <td>...</td>\n",
       "      <td>...</td>\n",
       "      <td>...</td>\n",
       "      <td>...</td>\n",
       "      <td>...</td>\n",
       "      <td>...</td>\n",
       "      <td>...</td>\n",
       "      <td>...</td>\n",
       "      <td>...</td>\n",
       "      <td>...</td>\n",
       "      <td>...</td>\n",
       "      <td>...</td>\n",
       "      <td>...</td>\n",
       "      <td>...</td>\n",
       "      <td>...</td>\n",
       "      <td>...</td>\n",
       "      <td>...</td>\n",
       "      <td>...</td>\n",
       "      <td>...</td>\n",
       "      <td>...</td>\n",
       "      <td>...</td>\n",
       "    </tr>\n",
       "    <tr>\n",
       "      <th>280</th>\n",
       "      <td>22941951</td>\n",
       "      <td>CHEMBL4742446</td>\n",
       "      <td>Inhibition of kinase tracer 236 binding to ful...</td>\n",
       "      <td>B</td>\n",
       "      <td>BAO_0000179</td>\n",
       "      <td>BAO_0000223</td>\n",
       "      <td>protein complex format</td>\n",
       "      <td>CHEMBL4742387</td>\n",
       "      <td>None</td>\n",
       "      <td>NaN</td>\n",
       "      <td>...</td>\n",
       "      <td>IC50</td>\n",
       "      <td>10^-9mol/L</td>\n",
       "      <td>1.41</td>\n",
       "      <td>CHEMBL3883323</td>\n",
       "      <td>Homo sapiens</td>\n",
       "      <td>Cyclin-C/Cyclin-dependent kinase 19</td>\n",
       "      <td>9606</td>\n",
       "      <td>IC50</td>\n",
       "      <td>10^-9mol/L</td>\n",
       "      <td>1.41</td>\n",
       "    </tr>\n",
       "    <tr>\n",
       "      <th>281</th>\n",
       "      <td>22941952</td>\n",
       "      <td>CHEMBL4742446</td>\n",
       "      <td>Inhibition of kinase tracer 236 binding to ful...</td>\n",
       "      <td>B</td>\n",
       "      <td>BAO_0000179</td>\n",
       "      <td>BAO_0000223</td>\n",
       "      <td>protein complex format</td>\n",
       "      <td>CHEMBL4742387</td>\n",
       "      <td>None</td>\n",
       "      <td>NaN</td>\n",
       "      <td>...</td>\n",
       "      <td>IC50</td>\n",
       "      <td>10^-9mol/L</td>\n",
       "      <td>1.41</td>\n",
       "      <td>CHEMBL3883323</td>\n",
       "      <td>Homo sapiens</td>\n",
       "      <td>Cyclin-C/Cyclin-dependent kinase 19</td>\n",
       "      <td>9606</td>\n",
       "      <td>IC50</td>\n",
       "      <td>10^-9mol/L</td>\n",
       "      <td>1.41</td>\n",
       "    </tr>\n",
       "    <tr>\n",
       "      <th>282</th>\n",
       "      <td>22941953</td>\n",
       "      <td>CHEMBL4742446</td>\n",
       "      <td>Inhibition of kinase tracer 236 binding to ful...</td>\n",
       "      <td>B</td>\n",
       "      <td>BAO_0000179</td>\n",
       "      <td>BAO_0000223</td>\n",
       "      <td>protein complex format</td>\n",
       "      <td>CHEMBL4742387</td>\n",
       "      <td>None</td>\n",
       "      <td>NaN</td>\n",
       "      <td>...</td>\n",
       "      <td>IC50</td>\n",
       "      <td>10^-7mol/L</td>\n",
       "      <td>1.48</td>\n",
       "      <td>CHEMBL3883323</td>\n",
       "      <td>Homo sapiens</td>\n",
       "      <td>Cyclin-C/Cyclin-dependent kinase 19</td>\n",
       "      <td>9606</td>\n",
       "      <td>IC50</td>\n",
       "      <td>10^-7mol/L</td>\n",
       "      <td>1.48</td>\n",
       "    </tr>\n",
       "    <tr>\n",
       "      <th>283</th>\n",
       "      <td>22970718</td>\n",
       "      <td>CHEMBL4770577</td>\n",
       "      <td>Inhibition of CDK19/Cyclin C (unknown origin) ...</td>\n",
       "      <td>B</td>\n",
       "      <td>BAO_0000179</td>\n",
       "      <td>BAO_0000223</td>\n",
       "      <td>protein complex format</td>\n",
       "      <td>CHEMBL4765336</td>\n",
       "      <td>Eur J Med Chem</td>\n",
       "      <td>2020.0</td>\n",
       "      <td>...</td>\n",
       "      <td>IC50</td>\n",
       "      <td>nM</td>\n",
       "      <td>15540.0</td>\n",
       "      <td>CHEMBL3883323</td>\n",
       "      <td>Homo sapiens</td>\n",
       "      <td>Cyclin-C/Cyclin-dependent kinase 19</td>\n",
       "      <td>9606</td>\n",
       "      <td>IC50</td>\n",
       "      <td>nM</td>\n",
       "      <td>15540.0</td>\n",
       "    </tr>\n",
       "    <tr>\n",
       "      <th>284</th>\n",
       "      <td>23118585</td>\n",
       "      <td>CHEMBL4800828</td>\n",
       "      <td>CDK11/CYCLIN C Invitrogen Lab (UK) kinase scre...</td>\n",
       "      <td>B</td>\n",
       "      <td>BAO_0000179</td>\n",
       "      <td>BAO_0000223</td>\n",
       "      <td>protein complex format</td>\n",
       "      <td>CHEMBL4800722</td>\n",
       "      <td>None</td>\n",
       "      <td>2021.0</td>\n",
       "      <td>...</td>\n",
       "      <td>% Ctrl</td>\n",
       "      <td>%</td>\n",
       "      <td>83.0</td>\n",
       "      <td>CHEMBL3883323</td>\n",
       "      <td>Homo sapiens</td>\n",
       "      <td>Cyclin-C/Cyclin-dependent kinase 19</td>\n",
       "      <td>9606</td>\n",
       "      <td>% Ctrl</td>\n",
       "      <td>%</td>\n",
       "      <td>83.0</td>\n",
       "    </tr>\n",
       "  </tbody>\n",
       "</table>\n",
       "<p>285 rows × 28 columns</p>\n",
       "</div>"
      ],
      "text/plain": [
       "     activity_id assay_chembl_id  \\\n",
       "0       16508071   CHEMBL3779201   \n",
       "1       16509067   CHEMBL3779201   \n",
       "2       16509069   CHEMBL3779202   \n",
       "3       16573757   CHEMBL3803437   \n",
       "4       16573763   CHEMBL3803437   \n",
       "..           ...             ...   \n",
       "280     22941951   CHEMBL4742446   \n",
       "281     22941952   CHEMBL4742446   \n",
       "282     22941953   CHEMBL4742446   \n",
       "283     22970718   CHEMBL4770577   \n",
       "284     23118585   CHEMBL4800828   \n",
       "\n",
       "                                     assay_description assay_type  \\\n",
       "0    Binding affinity to CDK19/Cyclin C (unknown or...          B   \n",
       "1    Binding affinity to CDK19/Cyclin C (unknown or...          B   \n",
       "2    Binding affinity to CDK19/Cyclin C (unknown or...          B   \n",
       "3    Binding affinity to human CDK19 (1 to 502 amin...          B   \n",
       "4    Binding affinity to human CDK19 (1 to 502 amin...          B   \n",
       "..                                                 ...        ...   \n",
       "280  Inhibition of kinase tracer 236 binding to ful...          B   \n",
       "281  Inhibition of kinase tracer 236 binding to ful...          B   \n",
       "282  Inhibition of kinase tracer 236 binding to ful...          B   \n",
       "283  Inhibition of CDK19/Cyclin C (unknown origin) ...          B   \n",
       "284  CDK11/CYCLIN C Invitrogen Lab (UK) kinase scre...          B   \n",
       "\n",
       "    bao_endpoint   bao_format               bao_label document_chembl_id  \\\n",
       "0    BAO_0000190  BAO_0000223  protein complex format      CHEMBL3774357   \n",
       "1    BAO_0000190  BAO_0000223  protein complex format      CHEMBL3774357   \n",
       "2    BAO_0000179  BAO_0000223  protein complex format      CHEMBL3774357   \n",
       "3    BAO_0000190  BAO_0000223  protein complex format      CHEMBL3797072   \n",
       "4    BAO_0000190  BAO_0000223  protein complex format      CHEMBL3797072   \n",
       "..           ...          ...                     ...                ...   \n",
       "280  BAO_0000179  BAO_0000223  protein complex format      CHEMBL4742387   \n",
       "281  BAO_0000179  BAO_0000223  protein complex format      CHEMBL4742387   \n",
       "282  BAO_0000179  BAO_0000223  protein complex format      CHEMBL4742387   \n",
       "283  BAO_0000179  BAO_0000223  protein complex format      CHEMBL4765336   \n",
       "284  BAO_0000179  BAO_0000223  protein complex format      CHEMBL4800722   \n",
       "\n",
       "             document_journal  document_year  ... standard_type  \\\n",
       "0    Bioorg. Med. Chem. Lett.         2016.0  ...          IC50   \n",
       "1    Bioorg. Med. Chem. Lett.         2016.0  ...          IC50   \n",
       "2    Bioorg. Med. Chem. Lett.         2016.0  ...          TIME   \n",
       "3               J. Med. Chem.         2016.0  ...          IC50   \n",
       "4               J. Med. Chem.         2016.0  ...          IC50   \n",
       "..                        ...            ...  ...           ...   \n",
       "280                      None            NaN  ...          IC50   \n",
       "281                      None            NaN  ...          IC50   \n",
       "282                      None            NaN  ...          IC50   \n",
       "283            Eur J Med Chem         2020.0  ...          IC50   \n",
       "284                      None         2021.0  ...        % Ctrl   \n",
       "\n",
       "    standard_units standard_value target_chembl_id  target_organism  \\\n",
       "0               nM           26.0    CHEMBL3883323     Homo sapiens   \n",
       "1               nM            4.0    CHEMBL3883323     Homo sapiens   \n",
       "2               hr            1.0    CHEMBL3883323     Homo sapiens   \n",
       "3               nM            2.5    CHEMBL3883323     Homo sapiens   \n",
       "4               nM            1.4    CHEMBL3883323     Homo sapiens   \n",
       "..             ...            ...              ...              ...   \n",
       "280     10^-9mol/L           1.41    CHEMBL3883323     Homo sapiens   \n",
       "281     10^-9mol/L           1.41    CHEMBL3883323     Homo sapiens   \n",
       "282     10^-7mol/L           1.48    CHEMBL3883323     Homo sapiens   \n",
       "283             nM        15540.0    CHEMBL3883323     Homo sapiens   \n",
       "284              %           83.0    CHEMBL3883323     Homo sapiens   \n",
       "\n",
       "                        target_pref_name  target_tax_id    type       units  \\\n",
       "0    Cyclin-C/Cyclin-dependent kinase 19           9606    IC50          nM   \n",
       "1    Cyclin-C/Cyclin-dependent kinase 19           9606    IC50          nM   \n",
       "2    Cyclin-C/Cyclin-dependent kinase 19           9606    Time         min   \n",
       "3    Cyclin-C/Cyclin-dependent kinase 19           9606    IC50          nM   \n",
       "4    Cyclin-C/Cyclin-dependent kinase 19           9606    IC50          nM   \n",
       "..                                   ...            ...     ...         ...   \n",
       "280  Cyclin-C/Cyclin-dependent kinase 19           9606    IC50  10^-9mol/L   \n",
       "281  Cyclin-C/Cyclin-dependent kinase 19           9606    IC50  10^-9mol/L   \n",
       "282  Cyclin-C/Cyclin-dependent kinase 19           9606    IC50  10^-7mol/L   \n",
       "283  Cyclin-C/Cyclin-dependent kinase 19           9606    IC50          nM   \n",
       "284  Cyclin-C/Cyclin-dependent kinase 19           9606  % Ctrl           %   \n",
       "\n",
       "       value  \n",
       "0       26.0  \n",
       "1        4.0  \n",
       "2       60.0  \n",
       "3        2.5  \n",
       "4        1.4  \n",
       "..       ...  \n",
       "280     1.41  \n",
       "281     1.41  \n",
       "282     1.48  \n",
       "283  15540.0  \n",
       "284     83.0  \n",
       "\n",
       "[285 rows x 28 columns]"
      ]
     },
     "execution_count": 190,
     "metadata": {},
     "output_type": "execute_result"
    }
   ],
   "source": [
    "activity = activity.drop(['activity_comment', 'activity_properties', 'assay_variant_mutation', 'assay_variant_accession', 'canonical_smiles', 'data_validity_comment', 'data_validity_description', 'record_id', 'src_id', 'standard_upper_value', 'standard_text_value', 'text_value', 'toid', 'ligand_efficiency', 'uo_units', 'qudt_units', 'upper_value'], axis=1)\n",
    "activity"
   ]
  },
  {
   "cell_type": "code",
   "execution_count": 191,
   "metadata": {},
   "outputs": [
    {
     "data": {
      "text/plain": [
       "activity_id                    0\n",
       "assay_chembl_id                0\n",
       "assay_description              0\n",
       "assay_type                     0\n",
       "bao_endpoint                   0\n",
       "bao_format                     0\n",
       "bao_label                      0\n",
       "document_chembl_id             0\n",
       "document_journal             158\n",
       "document_year                157\n",
       "molecule_chembl_id             0\n",
       "molecule_pref_name           282\n",
       "parent_molecule_chembl_id      0\n",
       "pchembl_value                204\n",
       "potential_duplicate            0\n",
       "relation                      31\n",
       "standard_flag                  0\n",
       "standard_relation             31\n",
       "standard_type                  0\n",
       "standard_units                28\n",
       "standard_value                30\n",
       "target_chembl_id               0\n",
       "target_organism                0\n",
       "target_pref_name               0\n",
       "target_tax_id                  0\n",
       "type                           0\n",
       "units                         30\n",
       "value                         30\n",
       "dtype: int64"
      ]
     },
     "execution_count": 191,
     "metadata": {},
     "output_type": "execute_result"
    }
   ],
   "source": [
    "#deal with NAN\n",
    "activity.isna().sum()"
   ]
  },
  {
   "cell_type": "markdown",
   "metadata": {},
   "source": [
    "#### Assay"
   ]
  },
  {
   "cell_type": "code",
   "execution_count": 192,
   "metadata": {
    "colab": {
     "base_uri": "https://localhost:8080/",
     "height": 445
    },
    "id": "_vcqHZ0kLjkS",
    "outputId": "0b02be4c-4582-467a-dc65-5f605642aa40",
    "scrolled": true
   },
   "outputs": [
    {
     "data": {
      "text/html": [
       "<div>\n",
       "<style scoped>\n",
       "    .dataframe tbody tr th:only-of-type {\n",
       "        vertical-align: middle;\n",
       "    }\n",
       "\n",
       "    .dataframe tbody tr th {\n",
       "        vertical-align: top;\n",
       "    }\n",
       "\n",
       "    .dataframe thead th {\n",
       "        text-align: right;\n",
       "    }\n",
       "</style>\n",
       "<table border=\"1\" class=\"dataframe\">\n",
       "  <thead>\n",
       "    <tr style=\"text-align: right;\">\n",
       "      <th></th>\n",
       "      <th>assay_category</th>\n",
       "      <th>assay_cell_type</th>\n",
       "      <th>assay_chembl_id</th>\n",
       "      <th>assay_classifications</th>\n",
       "      <th>assay_organism</th>\n",
       "      <th>assay_parameters</th>\n",
       "      <th>assay_strain</th>\n",
       "      <th>assay_subcellular_fraction</th>\n",
       "      <th>assay_tax_id</th>\n",
       "      <th>assay_test_type</th>\n",
       "      <th>...</th>\n",
       "      <th>confidence_score</th>\n",
       "      <th>description</th>\n",
       "      <th>document_chembl_id</th>\n",
       "      <th>relationship_description</th>\n",
       "      <th>relationship_type</th>\n",
       "      <th>src_assay_id</th>\n",
       "      <th>src_id</th>\n",
       "      <th>target_chembl_id</th>\n",
       "      <th>tissue_chembl_id</th>\n",
       "      <th>variant_sequence</th>\n",
       "    </tr>\n",
       "  </thead>\n",
       "  <tbody>\n",
       "    <tr>\n",
       "      <th>0</th>\n",
       "      <td>None</td>\n",
       "      <td>None</td>\n",
       "      <td>CHEMBL884521</td>\n",
       "      <td>[]</td>\n",
       "      <td>Rattus norvegicus</td>\n",
       "      <td>[]</td>\n",
       "      <td>None</td>\n",
       "      <td>None</td>\n",
       "      <td>10116.0</td>\n",
       "      <td>None</td>\n",
       "      <td>...</td>\n",
       "      <td>9</td>\n",
       "      <td>Inhibition of cytochrome P450 progesterone 15-...</td>\n",
       "      <td>CHEMBL1125500</td>\n",
       "      <td>Direct protein target assigned</td>\n",
       "      <td>D</td>\n",
       "      <td>None</td>\n",
       "      <td>1</td>\n",
       "      <td>CHEMBL3705</td>\n",
       "      <td>None</td>\n",
       "      <td>None</td>\n",
       "    </tr>\n",
       "    <tr>\n",
       "      <th>1</th>\n",
       "      <td>None</td>\n",
       "      <td>None</td>\n",
       "      <td>CHEMBL615148</td>\n",
       "      <td>[]</td>\n",
       "      <td>Rattus norvegicus</td>\n",
       "      <td>[]</td>\n",
       "      <td>None</td>\n",
       "      <td>None</td>\n",
       "      <td>10116.0</td>\n",
       "      <td>None</td>\n",
       "      <td>...</td>\n",
       "      <td>0</td>\n",
       "      <td>Inhibition of cytochrome P450 progesterone 16-...</td>\n",
       "      <td>CHEMBL1125500</td>\n",
       "      <td>Default value - Target has yet to be curated</td>\n",
       "      <td>U</td>\n",
       "      <td>None</td>\n",
       "      <td>1</td>\n",
       "      <td>CHEMBL612558</td>\n",
       "      <td>None</td>\n",
       "      <td>None</td>\n",
       "    </tr>\n",
       "    <tr>\n",
       "      <th>2</th>\n",
       "      <td>None</td>\n",
       "      <td>None</td>\n",
       "      <td>CHEMBL615199</td>\n",
       "      <td>[]</td>\n",
       "      <td>Rattus norvegicus</td>\n",
       "      <td>[]</td>\n",
       "      <td>None</td>\n",
       "      <td>None</td>\n",
       "      <td>10116.0</td>\n",
       "      <td>None</td>\n",
       "      <td>...</td>\n",
       "      <td>9</td>\n",
       "      <td>Inhibition of cytochrome P450 progesterone 2-a...</td>\n",
       "      <td>CHEMBL1125500</td>\n",
       "      <td>Direct protein target assigned</td>\n",
       "      <td>D</td>\n",
       "      <td>None</td>\n",
       "      <td>1</td>\n",
       "      <td>CHEMBL4971</td>\n",
       "      <td>None</td>\n",
       "      <td>None</td>\n",
       "    </tr>\n",
       "  </tbody>\n",
       "</table>\n",
       "<p>3 rows × 27 columns</p>\n",
       "</div>"
      ],
      "text/plain": [
       "  assay_category assay_cell_type assay_chembl_id assay_classifications  \\\n",
       "0           None            None    CHEMBL884521                    []   \n",
       "1           None            None    CHEMBL615148                    []   \n",
       "2           None            None    CHEMBL615199                    []   \n",
       "\n",
       "      assay_organism assay_parameters assay_strain assay_subcellular_fraction  \\\n",
       "0  Rattus norvegicus               []         None                       None   \n",
       "1  Rattus norvegicus               []         None                       None   \n",
       "2  Rattus norvegicus               []         None                       None   \n",
       "\n",
       "   assay_tax_id assay_test_type  ... confidence_score  \\\n",
       "0       10116.0            None  ...                9   \n",
       "1       10116.0            None  ...                0   \n",
       "2       10116.0            None  ...                9   \n",
       "\n",
       "                                         description document_chembl_id  \\\n",
       "0  Inhibition of cytochrome P450 progesterone 15-...      CHEMBL1125500   \n",
       "1  Inhibition of cytochrome P450 progesterone 16-...      CHEMBL1125500   \n",
       "2  Inhibition of cytochrome P450 progesterone 2-a...      CHEMBL1125500   \n",
       "\n",
       "                       relationship_description relationship_type  \\\n",
       "0                Direct protein target assigned                 D   \n",
       "1  Default value - Target has yet to be curated                 U   \n",
       "2                Direct protein target assigned                 D   \n",
       "\n",
       "  src_assay_id src_id  target_chembl_id tissue_chembl_id variant_sequence  \n",
       "0         None      1        CHEMBL3705             None             None  \n",
       "1         None      1      CHEMBL612558             None             None  \n",
       "2         None      1        CHEMBL4971             None             None  \n",
       "\n",
       "[3 rows x 27 columns]"
      ]
     },
     "execution_count": 192,
     "metadata": {},
     "output_type": "execute_result"
    }
   ],
   "source": [
    "assay = new_client.assay\n",
    "res = assay.filter(description__icontains='inhibit', assay_type='A')\n",
    "assay = pd.DataFrame(res)\n",
    "assay.head(3)"
   ]
  },
  {
   "cell_type": "code",
   "execution_count": 193,
   "metadata": {
    "colab": {
     "base_uri": "https://localhost:8080/",
     "height": 187
    },
    "id": "lWRF6miyOQdV",
    "outputId": "1492e5b6-1de4-4bfc-9b31-2aa88ab1d245"
   },
   "outputs": [
    {
     "data": {
      "text/html": [
       "<div>\n",
       "<style scoped>\n",
       "    .dataframe tbody tr th:only-of-type {\n",
       "        vertical-align: middle;\n",
       "    }\n",
       "\n",
       "    .dataframe tbody tr th {\n",
       "        vertical-align: top;\n",
       "    }\n",
       "\n",
       "    .dataframe thead th {\n",
       "        text-align: right;\n",
       "    }\n",
       "</style>\n",
       "<table border=\"1\" class=\"dataframe\">\n",
       "  <thead>\n",
       "    <tr style=\"text-align: right;\">\n",
       "      <th></th>\n",
       "      <th>assay_chembl_id</th>\n",
       "      <th>assay_organism</th>\n",
       "      <th>assay_tax_id</th>\n",
       "      <th>confidence_score</th>\n",
       "      <th>description</th>\n",
       "      <th>document_chembl_id</th>\n",
       "      <th>relationship_type</th>\n",
       "      <th>target_chembl_id</th>\n",
       "    </tr>\n",
       "  </thead>\n",
       "  <tbody>\n",
       "    <tr>\n",
       "      <th>0</th>\n",
       "      <td>CHEMBL884521</td>\n",
       "      <td>Rattus norvegicus</td>\n",
       "      <td>10116.0</td>\n",
       "      <td>9</td>\n",
       "      <td>Inhibition of cytochrome P450 progesterone 15-...</td>\n",
       "      <td>CHEMBL1125500</td>\n",
       "      <td>D</td>\n",
       "      <td>CHEMBL3705</td>\n",
       "    </tr>\n",
       "    <tr>\n",
       "      <th>1</th>\n",
       "      <td>CHEMBL615148</td>\n",
       "      <td>Rattus norvegicus</td>\n",
       "      <td>10116.0</td>\n",
       "      <td>0</td>\n",
       "      <td>Inhibition of cytochrome P450 progesterone 16-...</td>\n",
       "      <td>CHEMBL1125500</td>\n",
       "      <td>U</td>\n",
       "      <td>CHEMBL612558</td>\n",
       "    </tr>\n",
       "    <tr>\n",
       "      <th>2</th>\n",
       "      <td>CHEMBL615199</td>\n",
       "      <td>Rattus norvegicus</td>\n",
       "      <td>10116.0</td>\n",
       "      <td>9</td>\n",
       "      <td>Inhibition of cytochrome P450 progesterone 2-a...</td>\n",
       "      <td>CHEMBL1125500</td>\n",
       "      <td>D</td>\n",
       "      <td>CHEMBL4971</td>\n",
       "    </tr>\n",
       "  </tbody>\n",
       "</table>\n",
       "</div>"
      ],
      "text/plain": [
       "  assay_chembl_id     assay_organism  assay_tax_id  confidence_score  \\\n",
       "0    CHEMBL884521  Rattus norvegicus       10116.0                 9   \n",
       "1    CHEMBL615148  Rattus norvegicus       10116.0                 0   \n",
       "2    CHEMBL615199  Rattus norvegicus       10116.0                 9   \n",
       "\n",
       "                                         description document_chembl_id  \\\n",
       "0  Inhibition of cytochrome P450 progesterone 15-...      CHEMBL1125500   \n",
       "1  Inhibition of cytochrome P450 progesterone 16-...      CHEMBL1125500   \n",
       "2  Inhibition of cytochrome P450 progesterone 2-a...      CHEMBL1125500   \n",
       "\n",
       "  relationship_type target_chembl_id  \n",
       "0                 D       CHEMBL3705  \n",
       "1                 U     CHEMBL612558  \n",
       "2                 D       CHEMBL4971  "
      ]
     },
     "execution_count": 193,
     "metadata": {},
     "output_type": "execute_result"
    }
   ],
   "source": [
    "assay= assay.filter([\"assay_chembl_id\", \"assay_organism\", \"assay_tax_id\", \"confidence_score\", \"description\", \"document_chembl_id\", \"relationship_type\", \"target_chembl_id\"])\n",
    "assay.head(3)"
   ]
  },
  {
   "cell_type": "markdown",
   "metadata": {},
   "source": [
    "### Importing xlsx files"
   ]
  },
  {
   "cell_type": "markdown",
   "metadata": {},
   "source": [
    "#### Covid-19 data from Chembl"
   ]
  },
  {
   "cell_type": "code",
   "execution_count": 194,
   "metadata": {
    "colab": {
     "base_uri": "https://localhost:8080/",
     "height": 1000
    },
    "id": "P9CXSU4_jqJt",
    "outputId": "6e8de2b4-9785-485d-bcaa-23ce647c1f3b",
    "scrolled": true
   },
   "outputs": [
    {
     "data": {
      "text/html": [
       "<div>\n",
       "<style scoped>\n",
       "    .dataframe tbody tr th:only-of-type {\n",
       "        vertical-align: middle;\n",
       "    }\n",
       "\n",
       "    .dataframe tbody tr th {\n",
       "        vertical-align: top;\n",
       "    }\n",
       "\n",
       "    .dataframe thead th {\n",
       "        text-align: right;\n",
       "    }\n",
       "</style>\n",
       "<table border=\"1\" class=\"dataframe\">\n",
       "  <thead>\n",
       "    <tr style=\"text-align: right;\">\n",
       "      <th></th>\n",
       "      <th>ChEMBL ID</th>\n",
       "      <th>Name</th>\n",
       "      <th>UniProt Accessions</th>\n",
       "      <th>Type</th>\n",
       "      <th>Organism</th>\n",
       "      <th>Compounds</th>\n",
       "      <th>Activities</th>\n",
       "      <th>Tax ID</th>\n",
       "      <th>Species Group Flag</th>\n",
       "    </tr>\n",
       "  </thead>\n",
       "  <tbody>\n",
       "    <tr>\n",
       "      <th>0</th>\n",
       "      <td>CHEMBL4630723</td>\n",
       "      <td>ErbB-2/ErbB-3 heterodimer</td>\n",
       "      <td>P04626|P21860</td>\n",
       "      <td>PROTEIN COMPLEX</td>\n",
       "      <td>Homo sapiens</td>\n",
       "      <td>NaN</td>\n",
       "      <td>NaN</td>\n",
       "      <td>9606</td>\n",
       "      <td>False</td>\n",
       "    </tr>\n",
       "    <tr>\n",
       "      <th>1</th>\n",
       "      <td>CHEMBL3831285</td>\n",
       "      <td>Interleukin 13 receptor</td>\n",
       "      <td>P24394|P78552</td>\n",
       "      <td>PROTEIN COMPLEX</td>\n",
       "      <td>Homo sapiens</td>\n",
       "      <td>NaN</td>\n",
       "      <td>NaN</td>\n",
       "      <td>9606</td>\n",
       "      <td>False</td>\n",
       "    </tr>\n",
       "  </tbody>\n",
       "</table>\n",
       "</div>"
      ],
      "text/plain": [
       "       ChEMBL ID                       Name UniProt Accessions  \\\n",
       "0  CHEMBL4630723  ErbB-2/ErbB-3 heterodimer      P04626|P21860   \n",
       "1  CHEMBL3831285    Interleukin 13 receptor      P24394|P78552   \n",
       "\n",
       "              Type      Organism  Compounds  Activities  Tax ID  \\\n",
       "0  PROTEIN COMPLEX  Homo sapiens        NaN         NaN    9606   \n",
       "1  PROTEIN COMPLEX  Homo sapiens        NaN         NaN    9606   \n",
       "\n",
       "   Species Group Flag  \n",
       "0               False  \n",
       "1               False  "
      ]
     },
     "execution_count": 194,
     "metadata": {},
     "output_type": "execute_result"
    }
   ],
   "source": [
    "#import xlsx from chembl which have a connexion to uniprot database\n",
    "#load xlsx from chembl\n",
    "covid_chembl = pd.read_excel('covid-19-chembl.xlsx')\n",
    "covid_chembl.head(2)"
   ]
  },
  {
   "cell_type": "code",
   "execution_count": 195,
   "metadata": {},
   "outputs": [],
   "source": [
    "covid_chembl.rename(columns={\"ChEMBL ID\": \"chembl_id\"}, inplace = True)"
   ]
  },
  {
   "cell_type": "code",
   "execution_count": 196,
   "metadata": {
    "scrolled": false
   },
   "outputs": [],
   "source": [
    "#covid_chembl"
   ]
  },
  {
   "cell_type": "code",
   "execution_count": 197,
   "metadata": {},
   "outputs": [
    {
     "data": {
      "text/plain": [
       "chembl_id             0\n",
       "Name                  0\n",
       "UniProt Accessions    5\n",
       "Type                  0\n",
       "Organism              0\n",
       "Compounds             2\n",
       "Activities            2\n",
       "Tax ID                0\n",
       "Species Group Flag    0\n",
       "dtype: int64"
      ]
     },
     "execution_count": 197,
     "metadata": {},
     "output_type": "execute_result"
    }
   ],
   "source": [
    "covid_chembl.isna().sum()"
   ]
  },
  {
   "cell_type": "code",
   "execution_count": 199,
   "metadata": {},
   "outputs": [],
   "source": [
    "#covid_chembl.duplicated()"
   ]
  },
  {
   "cell_type": "markdown",
   "metadata": {
    "id": "bwk03UW2diuZ"
   },
   "source": [
    "#### Covid-19 data from Uniprot"
   ]
  },
  {
   "cell_type": "code",
   "execution_count": 200,
   "metadata": {
    "colab": {
     "base_uri": "https://localhost:8080/",
     "height": 690
    },
    "id": "lHklLhZxdZyo",
    "outputId": "f5a84e3d-af1a-4250-a565-d5ebf2a87783",
    "scrolled": true
   },
   "outputs": [
    {
     "data": {
      "text/html": [
       "<div>\n",
       "<style scoped>\n",
       "    .dataframe tbody tr th:only-of-type {\n",
       "        vertical-align: middle;\n",
       "    }\n",
       "\n",
       "    .dataframe tbody tr th {\n",
       "        vertical-align: top;\n",
       "    }\n",
       "\n",
       "    .dataframe thead th {\n",
       "        text-align: right;\n",
       "    }\n",
       "</style>\n",
       "<table border=\"1\" class=\"dataframe\">\n",
       "  <thead>\n",
       "    <tr style=\"text-align: right;\">\n",
       "      <th></th>\n",
       "      <th>From</th>\n",
       "      <th>Entry</th>\n",
       "      <th>Reviewed</th>\n",
       "      <th>Entry Name</th>\n",
       "      <th>Protein names</th>\n",
       "      <th>Gene Names</th>\n",
       "      <th>Organism</th>\n",
       "      <th>Length</th>\n",
       "      <th>Active site</th>\n",
       "      <th>Developmental stage</th>\n",
       "      <th>Interacts with</th>\n",
       "      <th>Sequence</th>\n",
       "    </tr>\n",
       "  </thead>\n",
       "  <tbody>\n",
       "    <tr>\n",
       "      <th>0</th>\n",
       "      <td>CHEMBL3831285</td>\n",
       "      <td>P78552</td>\n",
       "      <td>reviewed</td>\n",
       "      <td>I13R1_HUMAN</td>\n",
       "      <td>Interleukin-13 receptor subunit alpha-1, IL-13...</td>\n",
       "      <td>IL13RA1 IL13R IL13RA</td>\n",
       "      <td>Homo sapiens (Human)</td>\n",
       "      <td>427</td>\n",
       "      <td>NaN</td>\n",
       "      <td>NaN</td>\n",
       "      <td>P35225; P05112; Q8TDR0</td>\n",
       "      <td>MEWPARLCGLWALLLCAGGGGGGGGAAPTETQPPVTNLSVSVENLC...</td>\n",
       "    </tr>\n",
       "    <tr>\n",
       "      <th>1</th>\n",
       "      <td>CHEMBL3079</td>\n",
       "      <td>O60779</td>\n",
       "      <td>reviewed</td>\n",
       "      <td>S19A2_HUMAN</td>\n",
       "      <td>Thiamine transporter 1, ThTr-1, ThTr1 (Solute ...</td>\n",
       "      <td>SLC19A2 THT1 TRMA</td>\n",
       "      <td>Homo sapiens (Human)</td>\n",
       "      <td>497</td>\n",
       "      <td>NaN</td>\n",
       "      <td>NaN</td>\n",
       "      <td>O60635</td>\n",
       "      <td>MDVPGPVSRRAAAAAATVLLRTARVRRECWFLPTALLCAYGFFASL...</td>\n",
       "    </tr>\n",
       "  </tbody>\n",
       "</table>\n",
       "</div>"
      ],
      "text/plain": [
       "            From   Entry  Reviewed   Entry Name  \\\n",
       "0  CHEMBL3831285  P78552  reviewed  I13R1_HUMAN   \n",
       "1     CHEMBL3079  O60779  reviewed  S19A2_HUMAN   \n",
       "\n",
       "                                       Protein names            Gene Names  \\\n",
       "0  Interleukin-13 receptor subunit alpha-1, IL-13...  IL13RA1 IL13R IL13RA   \n",
       "1  Thiamine transporter 1, ThTr-1, ThTr1 (Solute ...     SLC19A2 THT1 TRMA   \n",
       "\n",
       "               Organism  Length Active site Developmental stage  \\\n",
       "0  Homo sapiens (Human)     427         NaN                 NaN   \n",
       "1  Homo sapiens (Human)     497         NaN                 NaN   \n",
       "\n",
       "           Interacts with                                           Sequence  \n",
       "0  P35225; P05112; Q8TDR0  MEWPARLCGLWALLLCAGGGGGGGGAAPTETQPPVTNLSVSVENLC...  \n",
       "1                  O60635  MDVPGPVSRRAAAAAATVLLRTARVRRECWFLPTALLCAYGFFASL...  "
      ]
     },
     "execution_count": 200,
     "metadata": {},
     "output_type": "execute_result"
    }
   ],
   "source": [
    "# load xlsx from uniprot\n",
    "uniprot =pd.read_excel('uniprot-covid-19-chembel_mapped.xlsx')\n",
    "uniprot.head(2)\n",
    "\n",
    "#_______________ALTERNATIVE_______________________Import uniprot ID/mapping with API_______________________________________\n",
    "#import requests, json, sys\n",
    "# Helper function to download data\n",
    "#def get_url(url, **kwargs):\n",
    "#    response = requests.get(url, **kwargs);\n",
    "\n",
    "#    if not response.ok:\n",
    "#        print(response.text)\n",
    "#        response.raise_for_status()\n",
    "#        sys.exit()\n",
    "\n",
    "#    return response\n",
    "\n",
    "#url = \"https://rest.uniprot.org/idmapping/uniprotkb/results/stream/19ab23d37132d4b2cf08652174334af86efd2882?format=json\"\n",
    "#r = get_url(url)\n",
    "#print(json.dumps(r.json(), indent=2))"
   ]
  },
  {
   "cell_type": "code",
   "execution_count": 141,
   "metadata": {
    "scrolled": true
   },
   "outputs": [
    {
     "data": {
      "text/html": [
       "<div>\n",
       "<style scoped>\n",
       "    .dataframe tbody tr th:only-of-type {\n",
       "        vertical-align: middle;\n",
       "    }\n",
       "\n",
       "    .dataframe tbody tr th {\n",
       "        vertical-align: top;\n",
       "    }\n",
       "\n",
       "    .dataframe thead th {\n",
       "        text-align: right;\n",
       "    }\n",
       "</style>\n",
       "<table border=\"1\" class=\"dataframe\">\n",
       "  <thead>\n",
       "    <tr style=\"text-align: right;\">\n",
       "      <th></th>\n",
       "      <th>chembl_id</th>\n",
       "      <th>uniprot_id</th>\n",
       "      <th>Reviewed</th>\n",
       "      <th>Entry Name</th>\n",
       "      <th>Protein names</th>\n",
       "      <th>Gene Names</th>\n",
       "      <th>Organism</th>\n",
       "      <th>Length</th>\n",
       "      <th>Active site</th>\n",
       "      <th>Developmental stage</th>\n",
       "      <th>Interacts with</th>\n",
       "      <th>Sequence</th>\n",
       "    </tr>\n",
       "  </thead>\n",
       "  <tbody>\n",
       "    <tr>\n",
       "      <th>0</th>\n",
       "      <td>CHEMBL3831285</td>\n",
       "      <td>P78552</td>\n",
       "      <td>reviewed</td>\n",
       "      <td>I13R1_HUMAN</td>\n",
       "      <td>Interleukin-13 receptor subunit alpha-1, IL-13...</td>\n",
       "      <td>IL13RA1 IL13R IL13RA</td>\n",
       "      <td>Homo sapiens (Human)</td>\n",
       "      <td>427</td>\n",
       "      <td>NaN</td>\n",
       "      <td>NaN</td>\n",
       "      <td>P35225; P05112; Q8TDR0</td>\n",
       "      <td>MEWPARLCGLWALLLCAGGGGGGGGAAPTETQPPVTNLSVSVENLC...</td>\n",
       "    </tr>\n",
       "    <tr>\n",
       "      <th>1</th>\n",
       "      <td>CHEMBL3079</td>\n",
       "      <td>O60779</td>\n",
       "      <td>reviewed</td>\n",
       "      <td>S19A2_HUMAN</td>\n",
       "      <td>Thiamine transporter 1, ThTr-1, ThTr1 (Solute ...</td>\n",
       "      <td>SLC19A2 THT1 TRMA</td>\n",
       "      <td>Homo sapiens (Human)</td>\n",
       "      <td>497</td>\n",
       "      <td>NaN</td>\n",
       "      <td>NaN</td>\n",
       "      <td>O60635</td>\n",
       "      <td>MDVPGPVSRRAAAAAATVLLRTARVRRECWFLPTALLCAYGFFASL...</td>\n",
       "    </tr>\n",
       "  </tbody>\n",
       "</table>\n",
       "</div>"
      ],
      "text/plain": [
       "       chembl_id uniprot_id  Reviewed   Entry Name  \\\n",
       "0  CHEMBL3831285     P78552  reviewed  I13R1_HUMAN   \n",
       "1     CHEMBL3079     O60779  reviewed  S19A2_HUMAN   \n",
       "\n",
       "                                       Protein names            Gene Names  \\\n",
       "0  Interleukin-13 receptor subunit alpha-1, IL-13...  IL13RA1 IL13R IL13RA   \n",
       "1  Thiamine transporter 1, ThTr-1, ThTr1 (Solute ...     SLC19A2 THT1 TRMA   \n",
       "\n",
       "               Organism  Length Active site Developmental stage  \\\n",
       "0  Homo sapiens (Human)     427         NaN                 NaN   \n",
       "1  Homo sapiens (Human)     497         NaN                 NaN   \n",
       "\n",
       "           Interacts with                                           Sequence  \n",
       "0  P35225; P05112; Q8TDR0  MEWPARLCGLWALLLCAGGGGGGGGAAPTETQPPVTNLSVSVENLC...  \n",
       "1                  O60635  MDVPGPVSRRAAAAAATVLLRTARVRRECWFLPTALLCAYGFFASL...  "
      ]
     },
     "execution_count": 141,
     "metadata": {},
     "output_type": "execute_result"
    }
   ],
   "source": [
    "#renaming the Column 'ID' for unprot and chembl\n",
    "uniprot.rename(columns={\"From\": \"chembl_id\", \"Entry\": \"uniprot_id\"}, inplace = True)\n",
    "uniprot.head(2)"
   ]
  },
  {
   "cell_type": "code",
   "execution_count": 128,
   "metadata": {},
   "outputs": [
    {
     "data": {
      "text/plain": [
       "chembl_id               0\n",
       "uniprot_id              0\n",
       "Reviewed                0\n",
       "Entry Name              0\n",
       "Protein names           0\n",
       "Gene Names              0\n",
       "Organism                0\n",
       "Length                  0\n",
       "Active site            66\n",
       "Developmental stage    75\n",
       "Interacts with         30\n",
       "Sequence                0\n",
       "dtype: int64"
      ]
     },
     "execution_count": 128,
     "metadata": {},
     "output_type": "execute_result"
    }
   ],
   "source": [
    "uniprot.isna().sum()"
   ]
  },
  {
   "cell_type": "code",
   "execution_count": 133,
   "metadata": {},
   "outputs": [
    {
     "data": {
      "text/plain": [
       "0     False\n",
       "1     False\n",
       "2     False\n",
       "3     False\n",
       "4     False\n",
       "      ...  \n",
       "72    False\n",
       "73    False\n",
       "74    False\n",
       "75    False\n",
       "76    False\n",
       "Length: 77, dtype: bool"
      ]
     },
     "execution_count": 133,
     "metadata": {},
     "output_type": "execute_result"
    }
   ],
   "source": [
    "uniprot.duplicated()"
   ]
  },
  {
   "cell_type": "markdown",
   "metadata": {
    "id": "MY6gleMfmld2"
   },
   "source": [
    "# 3. Connecting python to MySQL with SQLAlchemy"
   ]
  },
  {
   "cell_type": "code",
   "execution_count": 13,
   "metadata": {
    "colab": {
     "base_uri": "https://localhost:8080/"
    },
    "id": "mmmmDQ0DmhK1",
    "outputId": "fdf79fcd-1223-4017-81a3-f9474eb4f09d"
   },
   "outputs": [
    {
     "name": "stdout",
     "output_type": "stream",
     "text": [
      "Requirement already satisfied: sqlalchemy in c:\\users\\tallm\\anaconda3\\lib\\site-packages (1.4.7)\n",
      "Requirement already satisfied: greenlet!=0.4.17 in c:\\users\\tallm\\anaconda3\\lib\\site-packages (from sqlalchemy) (1.0.0)\n"
     ]
    }
   ],
   "source": [
    "!pip install sqlalchemy"
   ]
  },
  {
   "cell_type": "code",
   "execution_count": 152,
   "metadata": {
    "colab": {
     "base_uri": "https://localhost:8080/",
     "height": 434
    },
    "id": "HcdGaFeJm4ZK",
    "outputId": "292c4771-da1a-48e1-f85c-c7655a5efb05",
    "scrolled": true
   },
   "outputs": [],
   "source": [
    "# connecting python to mysql workbench\n",
    "schema=\"Covid_19\"\n",
    "host=\"127.0.0.1\"\n",
    "user=\"root\"\n",
    "password=\"MY_PASSWORD\"\n",
    "port=3306\n",
    "con = f'mysql+pymysql://{user}:{password}@{host}:{port}/{schema}'"
   ]
  },
  {
   "cell_type": "code",
   "execution_count": 250,
   "metadata": {
    "collapsed": true
   },
   "outputs": [
    {
     "ename": "OperationalError",
     "evalue": "(pymysql.err.OperationalError) (1054, \"Unknown column 'From' in 'field list'\")\n[SQL: INSERT INTO covid_uniprot (`From`, `Entry`, `Reviewed`, `Entry Name`, `Protein names`, `Gene Names`, `Organism`, `Length`, `Active site`, `Developmental stage`, `Interacts with`, `Sequence`) VALUES (%(From)s, %(Entry)s, %(Reviewed)s, %(Entry Name)s, %(Protein names)s, %(Gene Names)s, %(Organism)s, %(Length)s, %(Active site)s, %(Developmental stage)s, %(Interacts with)s, %(Sequence)s)]\n[parameters: ({'From': 'CHEMBL3831285', 'Entry': 'P78552', 'Reviewed': 'reviewed', 'Entry Name': 'I13R1_HUMAN', 'Protein names': 'Interleukin-13 receptor subunit alpha-1, IL-13 receptor subunit alpha-1, IL-13R subunit alpha-1, IL-13R-alpha-1, IL-13RA1 (Cancer/testis antigen 19, CT19) (CD antigen CD213a1)', 'Gene Names': 'IL13RA1 IL13R IL13RA', 'Organism': 'Homo sapiens (Human)', 'Length': 427, 'Active site': 'unknown', 'Developmental stage': 'unknown', 'Interacts with': 'P35225; P05112; Q8TDR0', 'Sequence': 'MEWPARLCGLWALLLCAGGGGGGGGAAPTETQPPVTNLSVSVENLCTVIWTWNPPEGASSNCSLWYFSHFGDKQDKKIAPETRRSIEVPLNERICLQVGSQCSTNESEKPSILVEKCISPPEGDPESAVTELQCIWHNLSYMKCSWLPG ... (129 characters truncated) ... EAKCENPEFERNVENTSCFMVPGVLPDTLNTVRIRVKTNKLCYEDDKLWSNWSQEMSIGKKRNSTLYITMLLIVPVIVAGAIIVLLLYLKRLKIIIFPPIPDPGKIFKEMFGDQNDDTLHWKKYDIYEKQTKEETDSVVLIENLKKASQ'}, {'From': 'CHEMBL3079', 'Entry': 'O60779', 'Reviewed': 'reviewed', 'Entry Name': 'S19A2_HUMAN', 'Protein names': 'Thiamine transporter 1, ThTr-1, ThTr1 (Solute carrier family 19 member 2) (Thiamine carrier 1, TC1)', 'Gene Names': 'SLC19A2 THT1 TRMA', 'Organism': 'Homo sapiens (Human)', 'Length': 497, 'Active site': 'unknown', 'Developmental stage': 'unknown', 'Interacts with': 'O60635', 'Sequence': 'MDVPGPVSRRAAAAAATVLLRTARVRRECWFLPTALLCAYGFFASLRPSEPFLTPYLLGPDKNLTEREVFNEIYPVWTYSYLVLLFPVFLATDYLRYKPVVLLQGLSLIVTWFMLLYAQGLLAIQFLEFFYGIATATEIAYYSYIYSVV ... (199 characters truncated) ... FAVGYIKISWSTWGEMTLSLFSLLIAAAVYIMDTVGNIWVCYASYVVFRIIYMLLITIATFQIAANLSMERYALVFGVNTFIALALQTLLTLIVVDASGLGLEITTQFLIYASYFALIAVVFLASGAVSVMKKCRKLEDPQSSSQVTTS'}, {'From': 'CHEMBL3885534', 'Entry': 'Q9Y376', 'Reviewed': 'reviewed', 'Entry Name': 'CAB39_HUMAN', 'Protein names': 'Calcium-binding protein 39 (MO25alpha) (Protein Mo25)', 'Gene Names': 'CAB39 MO25 CGI-66', 'Organism': 'Homo sapiens (Human)', 'Length': 341, 'Active site': 'unknown', 'Developmental stage': 'unknown', 'Interacts with': 'Q9C0F1; Q08379; P59942; O43513; O95747; P34897; Q15831; Q9Y6E0-2; O00506; Q9P289; Q9P289-1; Q9UEW8; Q7RTN6; Q7RTN6-1; Q9C0K7', 'Sequence': 'MPFPFGKSHKSPADIVKNLKESMAVLEKQDISDKKAEKATEEVSKNLVAMKEILYGTNEKEPQTEAVAQLAQELYNSGLLSTLVADLQLIDFEGKKDVAQIFNNILRRQIGTRTPTVEYICTQQNILFMLLKGYESPEIALNCGIMLRE ... (43 characters truncated) ... TRHKLLSAEFLEQHYDRFFSEYEKLLHSENYVTKRQSLKLLGELLLDRHNFTIMTKYISKPENLKLMMNLLRDKSRNIQFEAFHVFKVFVANPNKTQPILDILLKNQAKLIEFLSKFQNDRTEDEQFNDEKTYLVKQIRDLKRPAQQEA'}, {'From': 'CHEMBL5438', 'Entry': 'A8QUY6', 'Reviewed': 'unreviewed', 'Entry Name': 'A8QUY6_AERCA', 'Protein names': 'Beta-lactamase, EC 3.5.2.6', 'Gene Names': 'blaIMP-19', 'Organism': 'Aeromonas caviae (Aeromonas punctata)', 'Length': 246, 'Active site': 'unknown', 'Developmental stage': 'unknown', 'Interacts with': 'unknown', 'Sequence': 'MKKLFVLCVCFLCSITAAGAALPDLKIEKLEEGVYVHTSFEEVNGWGVVSKHGLVVLVNTDAYLIDTPFTATDTEKLVNWFVERGYKIKGTISSHFHSDSTGGIEWLNSQSIPTYASELTNELLKKDGKVQAKNSFSGVSYWLVKNKIEVFYPGPGHTQDNVVVWLPEKKILFGGCFVKPDGLGNLGDANLEAWPKSAKILMSKYVKAKLVVSSHSEIGDASLLKRTWEQAVKGLNESKKPSQPSN'}, {'From': 'CHEMBL2242734', 'Entry': 'Q9FG87', 'Reviewed': 'reviewed', 'Entry Name': 'KCS20_ARATH', 'Protein names': '3-ketoacyl-CoA synthase 20, KCS-20, EC 2.3.1.199 (Very long-chain fatty acid condensing enzyme 20, VLCFA condensing enzyme 20)', 'Gene Names': 'KCS20 KCS19 At5g43760 MQD19.11', 'Organism': 'Arabidopsis thaliana (Mouse-ear cress)', 'Length': 529, 'Active site': 'ACT_SITE 247 /evidence=\"ECO:0000250|UniProtKB:Q38860\"; ACT_SITE 326 /evidence=\"ECO:0000250|UniProtKB:Q38860\"; ACT_SITE 415 /evidence=\"ECO:0000250|UniProtKB:Q38860\"; ACT_SITE 419 /evidence=\"ECO:0000250|UniProtKB:Q38860\"; ACT_SITE 452 /evidence=\"ECO:0000250|UniProtKB:Q38860\"', 'Developmental stage': 'unknown', 'Interacts with': 'unknown', 'Sequence': 'MSHNQNQPHRPVPVHVTNAEPNPNPNNLPNFLLSVRLKYVKLGYHYLISNALYILLLPLLAATIANLSSFTINDLSLLYNTLRFHFLSATLATALLISLSTAYFTTRPRRVFLLDFSCYKPDPSLICTRETFMDRSQRVGIFTEDNLAF ... (231 characters truncated) ... MSEQLLFFATLVARKVFKVKKIKPYIPDFKLAFEHFCIHAGGRAVLDEIEKNLDLSEWHMEPSRMTLNRFGNTSSSSLWYELAYSEAKGRIKRGDRTWQIAFGSGFKCNSAVWKALRTIDPMDEKTNPWIDEIDDFPVQVPRITPITSS'}, {'From': 'CHEMBL6002', 'Entry': 'Q9BWU1', 'Reviewed': 'reviewed', 'Entry Name': 'CDK19_HUMAN', 'Protein names': 'Cyclin-dependent kinase 19, EC 2.7.11.22 (CDC2-related protein kinase 6) (Cell division cycle 2-like protein kinase 6) (Cell division protein kinase 19) (Cyclin-dependent kinase 11) (Death-preventing kinase)', 'Gene Names': 'CDK19 CDC2L6 CDK11 KIAA1028', 'Organism': 'Homo sapiens (Human)', 'Length': 502, 'Active site': 'ACT_SITE 151 /note=\"Proton acceptor\" /evidence=\"ECO:0000255|PROSITE-ProRule:PRU00159, ECO:0000255|PROSITE-ProRule:PRU10027\"', 'Developmental stage': 'unknown', 'Interacts with': 'unknown', 'Sequence': 'MDYDFKAKLAAERERVEDLFEYEGCKVGRGTYGHVYKARRKDGKDEKEYALKQIEGTGISMSACREIALLRELKHPNVIALQKVFLSHSDRKVWLLFDYAEHDLWHIIKFHRASKANKKPMQLPRSMVKSLLYQILDGIHYLHANWVLH ... (204 characters truncated) ... PKREFLNEDDPEEKGDKNQQQQQNQHQQPTAPPQQAAAPPQAPPPQQNSTQTNGTAGGAGAGVGGTGAGLQHSQDSSLNQVPPNKKPRLGPSGANSGGPVMPSDYQHSSSRLNYQSSVQGSSQSQSTLGYSSSSQQSSQYHPSHQAHRY'}, {'From': 'CHEMBL4105781', 'Entry': 'Q9P0J0', 'Reviewed': 'reviewed', 'Entry Name': 'NDUAD_HUMAN', 'Protein names': 'NADH dehydrogenase [ubiquinone] 1 alpha subcomplex subunit 13 (Cell death regulatory protein GRIM-19) (Complex I-B16.6, CI-B16.6) (Gene associated wi ... (31 characters truncated) ... ced mortality 19 protein, GRIM-19, Gene associated with retinoic and IFN-induced mortality 19 protein) (NADH-ubiquinone oxidoreductase B16.6 subunit)', 'Gene Names': 'NDUFA13 GRIM19 CDA016 CGI-39', 'Organism': 'Homo sapiens (Human)', 'Length': 144, 'Active site': 'unknown', 'Developmental stage': 'DEVELOPMENTAL STAGE: Expressed in numerous fetal tissues.', 'Interacts with': 'O43464; P42858; Q9HC29', 'Sequence': 'MAASKVKQDMPPPGGYGPIDYKRNLPRRGLSGYSMLAIGIGTLIYGHWSIMKWNRERRRLQIEDFEARIALLPLLQAETDRRTLQMLRENLEEEAIIMKDVPDWKVGESVFHTTRWVPPLIGELYGLRTTEEALHASHGFMWYT'}, {'From': 'CHEMBL3425388', 'Entry': 'P56528', 'Reviewed': 'reviewed', 'Entry Name': 'CD38_MOUSE', 'Protein names': \"ADP-ribosyl cyclase/cyclic ADP-ribose hydrolase 1, EC 3.2.2.6 (2'-phospho-ADP-ribosyl cyclase) (2'-phospho-ADP-ribosyl cyclase/2'-phospho-cyclic-ADP- ... (53 characters truncated) ... ADP-ribose transferase) (ADP-ribosyl cyclase 1, ADPRC 1) (Cyclic ADP-ribose hydrolase 1, cADPr hydrolase 1) (I-19) (NIM-R5 antigen) (CD antigen CD38)\", 'Gene Names': 'Cd38', 'Organism': 'Mus musculus (Mouse)', 'Length': 304, 'Active site': 'ACT_SITE 123 /evidence=\"ECO:0000250\"; ACT_SITE 205 /evidence=\"ECO:0000250\"', 'Developmental stage': 'unknown', 'Interacts with': 'P56528', 'Sequence': 'MANYEFSQVSGDRPGCRLSRKAQIGLGVGLLVLIALVVGIVVILLRPRSLLVWTGEPTTKHFSDIFLGRCLIYTQILRPEMRDQNCQEILSTFKGAFVSKNPCNITREDYAPLVKLVTQTIPCNKTLFWSKSKHLAHQYTWIQGKMFTL ... (6 characters truncated) ... YIADDLRWCGDPSTSDMNYVSCPHWSENCPNNPITVFWKVISQKFAEDACGVVQVMLNGSLREPFYKNSTFGSVEVFSLDPNKVHKLQAWVMHDIEGASSNACSSSSLNELKMIVQKRNMIFACVDNYRPARFLQCVKNPEHPSCRLNT'}  ... displaying 10 of 77 total bound parameter sets ...  {'From': 'CHEMBL2073675', 'Entry': 'Q8VCA0', 'Reviewed': 'reviewed', 'Entry Name': 'S22AJ_MOUSE', 'Protein names': 'Solute carrier family 22 member 19 (Organic anion transporter 5)', 'Gene Names': 'Slc22a19 Oat5 Slc22a9', 'Organism': 'Mus musculus (Mouse)', 'Length': 551, 'Active site': 'unknown', 'Developmental stage': 'unknown', 'Interacts with': 'unknown', 'Sequence': 'MAFQDLIIQIGSLGRFQILHMIFVLICHALSAPHTLLENFTAAIPSHRCWVPILDNDTASDNGSRILSQDDLLRISIPLDSNLRPDKCRRYIQPQWHLLHLNGTFPTVTEPDTEPCVDGWVYDQSTFLSTTVTQWDLVCGSQALNSVAK ... (253 characters truncated) ... MGRRMTQLIFMSVLGISILAVVFLPQEMQILRVFLSTLGGAISSASITSTLVHANELVPTIIRATALGVVGIAGSAGGALSPLLMILTTYSASLPWIIYGILPFLGGLVALLLPETKNQPLPDSIQDIENKRKSSKEAKKDVVAKVTPL'}, {'From': 'CHEMBL3885541', 'Entry': 'P15884', 'Reviewed': 'reviewed', 'Entry Name': 'ITF2_HUMAN', 'Protein names': 'Transcription factor 4, TCF-4 (Class B basic helix-loop-helix protein 19, bHLHb19) (Immunoglobulin transcription factor 2, ITF-2) (SL3-3 enhancer factor 2, SEF-2)', 'Gene Names': 'TCF4 BHLHB19 ITF2 SEF2', 'Organism': 'Homo sapiens (Human)', 'Length': 667, 'Active site': 'unknown', 'Developmental stage': 'unknown', 'Interacts with': 'P29972; Q92888; Q9H6L4; P50553; Q6XD76; Q9BZE9; P21281; O75934; Q92843; Q9NX04; Q9NP86; P38936; P42773; Q6ZQR2; Q13111; Q9Y6H1; Q9UKJ5; P61024; P3522 ... (1690 characters truncated) ...  Q9H0W8; Q9Y5K1-2; Q9BX59; Q7RTU1; Q7RTU0; Q9UL33-2; Q6AZZ1; Q8N7C3; Q5T7W7; Q9UNY4-2; Q8TF42; Q6UX98; O75800; Q15973; Q96SQ5; A0A0S2Z5X4; A0A0S2Z6P0', 'Sequence': 'MHHQQRMAALGTDKELSDLLDFSAMFSPPVSSGKNGPTSLASGHFTGSNVEDRSSSGSWGNGGHPSPSRNYGDGTPYDHMTSRDLGSHDNLSPPFVNSRIQSKTERGSYSSYGRESNLQGCHQQSLLGGDMDMGNPGTLSPTKPGSQYY ... (369 characters truncated) ... GDENLQDTKSSEDKKLDDDKKDIKSITSNNDDEDLTPEQKAEREKERRMANNARERLRVRDINEAFKELGRMVQLHLKSDKPQTKLLILHQAVAVILSLEQQVRERNLNPKAACLKRREEEKVSSEPPPLSLAGPHPGMGDASNHMGQM'})]\n(Background on this error at: http://sqlalche.me/e/14/e3q8)",
     "output_type": "error",
     "traceback": [
      "\u001b[1;31m---------------------------------------------------------------------------\u001b[0m",
      "\u001b[1;31mOperationalError\u001b[0m                          Traceback (most recent call last)",
      "\u001b[1;32m~\\anaconda3\\lib\\site-packages\\sqlalchemy\\engine\\base.py\u001b[0m in \u001b[0;36m_execute_context\u001b[1;34m(self, dialect, constructor, statement, parameters, execution_options, *args, **kw)\u001b[0m\n\u001b[0;32m   1684\u001b[0m                 \u001b[1;32mif\u001b[0m \u001b[1;32mnot\u001b[0m \u001b[0mevt_handled\u001b[0m\u001b[1;33m:\u001b[0m\u001b[1;33m\u001b[0m\u001b[1;33m\u001b[0m\u001b[0m\n\u001b[1;32m-> 1685\u001b[1;33m                     self.dialect.do_executemany(\n\u001b[0m\u001b[0;32m   1686\u001b[0m                         \u001b[0mcursor\u001b[0m\u001b[1;33m,\u001b[0m \u001b[0mstatement\u001b[0m\u001b[1;33m,\u001b[0m \u001b[0mparameters\u001b[0m\u001b[1;33m,\u001b[0m \u001b[0mcontext\u001b[0m\u001b[1;33m\u001b[0m\u001b[1;33m\u001b[0m\u001b[0m\n",
      "\u001b[1;32m~\\anaconda3\\lib\\site-packages\\sqlalchemy\\dialects\\mysql\\mysqldb.py\u001b[0m in \u001b[0;36mdo_executemany\u001b[1;34m(self, cursor, statement, parameters, context)\u001b[0m\n\u001b[0;32m    147\u001b[0m     \u001b[1;32mdef\u001b[0m \u001b[0mdo_executemany\u001b[0m\u001b[1;33m(\u001b[0m\u001b[0mself\u001b[0m\u001b[1;33m,\u001b[0m \u001b[0mcursor\u001b[0m\u001b[1;33m,\u001b[0m \u001b[0mstatement\u001b[0m\u001b[1;33m,\u001b[0m \u001b[0mparameters\u001b[0m\u001b[1;33m,\u001b[0m \u001b[0mcontext\u001b[0m\u001b[1;33m=\u001b[0m\u001b[1;32mNone\u001b[0m\u001b[1;33m)\u001b[0m\u001b[1;33m:\u001b[0m\u001b[1;33m\u001b[0m\u001b[1;33m\u001b[0m\u001b[0m\n\u001b[1;32m--> 148\u001b[1;33m         \u001b[0mrowcount\u001b[0m \u001b[1;33m=\u001b[0m \u001b[0mcursor\u001b[0m\u001b[1;33m.\u001b[0m\u001b[0mexecutemany\u001b[0m\u001b[1;33m(\u001b[0m\u001b[0mstatement\u001b[0m\u001b[1;33m,\u001b[0m \u001b[0mparameters\u001b[0m\u001b[1;33m)\u001b[0m\u001b[1;33m\u001b[0m\u001b[1;33m\u001b[0m\u001b[0m\n\u001b[0m\u001b[0;32m    149\u001b[0m         \u001b[1;32mif\u001b[0m \u001b[0mcontext\u001b[0m \u001b[1;32mis\u001b[0m \u001b[1;32mnot\u001b[0m \u001b[1;32mNone\u001b[0m\u001b[1;33m:\u001b[0m\u001b[1;33m\u001b[0m\u001b[1;33m\u001b[0m\u001b[0m\n",
      "\u001b[1;32m~\\anaconda3\\lib\\site-packages\\pymysql\\cursors.py\u001b[0m in \u001b[0;36mexecutemany\u001b[1;34m(self, query, args)\u001b[0m\n\u001b[0;32m    172\u001b[0m             \u001b[1;32massert\u001b[0m \u001b[0mq_values\u001b[0m\u001b[1;33m[\u001b[0m\u001b[1;36m0\u001b[0m\u001b[1;33m]\u001b[0m \u001b[1;33m==\u001b[0m \u001b[1;34m\"(\"\u001b[0m \u001b[1;32mand\u001b[0m \u001b[0mq_values\u001b[0m\u001b[1;33m[\u001b[0m\u001b[1;33m-\u001b[0m\u001b[1;36m1\u001b[0m\u001b[1;33m]\u001b[0m \u001b[1;33m==\u001b[0m \u001b[1;34m\")\"\u001b[0m\u001b[1;33m\u001b[0m\u001b[1;33m\u001b[0m\u001b[0m\n\u001b[1;32m--> 173\u001b[1;33m             return self._do_execute_many(\n\u001b[0m\u001b[0;32m    174\u001b[0m                 \u001b[0mq_prefix\u001b[0m\u001b[1;33m,\u001b[0m\u001b[1;33m\u001b[0m\u001b[1;33m\u001b[0m\u001b[0m\n",
      "\u001b[1;32m~\\anaconda3\\lib\\site-packages\\pymysql\\cursors.py\u001b[0m in \u001b[0;36m_do_execute_many\u001b[1;34m(self, prefix, values, postfix, args, max_stmt_length, encoding)\u001b[0m\n\u001b[0;32m    210\u001b[0m             \u001b[0msql\u001b[0m \u001b[1;33m+=\u001b[0m \u001b[0mv\u001b[0m\u001b[1;33m\u001b[0m\u001b[1;33m\u001b[0m\u001b[0m\n\u001b[1;32m--> 211\u001b[1;33m         \u001b[0mrows\u001b[0m \u001b[1;33m+=\u001b[0m \u001b[0mself\u001b[0m\u001b[1;33m.\u001b[0m\u001b[0mexecute\u001b[0m\u001b[1;33m(\u001b[0m\u001b[0msql\u001b[0m \u001b[1;33m+\u001b[0m \u001b[0mpostfix\u001b[0m\u001b[1;33m)\u001b[0m\u001b[1;33m\u001b[0m\u001b[1;33m\u001b[0m\u001b[0m\n\u001b[0m\u001b[0;32m    212\u001b[0m         \u001b[0mself\u001b[0m\u001b[1;33m.\u001b[0m\u001b[0mrowcount\u001b[0m \u001b[1;33m=\u001b[0m \u001b[0mrows\u001b[0m\u001b[1;33m\u001b[0m\u001b[1;33m\u001b[0m\u001b[0m\n",
      "\u001b[1;32m~\\anaconda3\\lib\\site-packages\\pymysql\\cursors.py\u001b[0m in \u001b[0;36mexecute\u001b[1;34m(self, query, args)\u001b[0m\n\u001b[0;32m    147\u001b[0m \u001b[1;33m\u001b[0m\u001b[0m\n\u001b[1;32m--> 148\u001b[1;33m         \u001b[0mresult\u001b[0m \u001b[1;33m=\u001b[0m \u001b[0mself\u001b[0m\u001b[1;33m.\u001b[0m\u001b[0m_query\u001b[0m\u001b[1;33m(\u001b[0m\u001b[0mquery\u001b[0m\u001b[1;33m)\u001b[0m\u001b[1;33m\u001b[0m\u001b[1;33m\u001b[0m\u001b[0m\n\u001b[0m\u001b[0;32m    149\u001b[0m         \u001b[0mself\u001b[0m\u001b[1;33m.\u001b[0m\u001b[0m_executed\u001b[0m \u001b[1;33m=\u001b[0m \u001b[0mquery\u001b[0m\u001b[1;33m\u001b[0m\u001b[1;33m\u001b[0m\u001b[0m\n",
      "\u001b[1;32m~\\anaconda3\\lib\\site-packages\\pymysql\\cursors.py\u001b[0m in \u001b[0;36m_query\u001b[1;34m(self, q)\u001b[0m\n\u001b[0;32m    309\u001b[0m         \u001b[0mself\u001b[0m\u001b[1;33m.\u001b[0m\u001b[0m_clear_result\u001b[0m\u001b[1;33m(\u001b[0m\u001b[1;33m)\u001b[0m\u001b[1;33m\u001b[0m\u001b[1;33m\u001b[0m\u001b[0m\n\u001b[1;32m--> 310\u001b[1;33m         \u001b[0mconn\u001b[0m\u001b[1;33m.\u001b[0m\u001b[0mquery\u001b[0m\u001b[1;33m(\u001b[0m\u001b[0mq\u001b[0m\u001b[1;33m)\u001b[0m\u001b[1;33m\u001b[0m\u001b[1;33m\u001b[0m\u001b[0m\n\u001b[0m\u001b[0;32m    311\u001b[0m         \u001b[0mself\u001b[0m\u001b[1;33m.\u001b[0m\u001b[0m_do_get_result\u001b[0m\u001b[1;33m(\u001b[0m\u001b[1;33m)\u001b[0m\u001b[1;33m\u001b[0m\u001b[1;33m\u001b[0m\u001b[0m\n",
      "\u001b[1;32m~\\anaconda3\\lib\\site-packages\\pymysql\\connections.py\u001b[0m in \u001b[0;36mquery\u001b[1;34m(self, sql, unbuffered)\u001b[0m\n\u001b[0;32m    547\u001b[0m         \u001b[0mself\u001b[0m\u001b[1;33m.\u001b[0m\u001b[0m_execute_command\u001b[0m\u001b[1;33m(\u001b[0m\u001b[0mCOMMAND\u001b[0m\u001b[1;33m.\u001b[0m\u001b[0mCOM_QUERY\u001b[0m\u001b[1;33m,\u001b[0m \u001b[0msql\u001b[0m\u001b[1;33m)\u001b[0m\u001b[1;33m\u001b[0m\u001b[1;33m\u001b[0m\u001b[0m\n\u001b[1;32m--> 548\u001b[1;33m         \u001b[0mself\u001b[0m\u001b[1;33m.\u001b[0m\u001b[0m_affected_rows\u001b[0m \u001b[1;33m=\u001b[0m \u001b[0mself\u001b[0m\u001b[1;33m.\u001b[0m\u001b[0m_read_query_result\u001b[0m\u001b[1;33m(\u001b[0m\u001b[0munbuffered\u001b[0m\u001b[1;33m=\u001b[0m\u001b[0munbuffered\u001b[0m\u001b[1;33m)\u001b[0m\u001b[1;33m\u001b[0m\u001b[1;33m\u001b[0m\u001b[0m\n\u001b[0m\u001b[0;32m    549\u001b[0m         \u001b[1;32mreturn\u001b[0m \u001b[0mself\u001b[0m\u001b[1;33m.\u001b[0m\u001b[0m_affected_rows\u001b[0m\u001b[1;33m\u001b[0m\u001b[1;33m\u001b[0m\u001b[0m\n",
      "\u001b[1;32m~\\anaconda3\\lib\\site-packages\\pymysql\\connections.py\u001b[0m in \u001b[0;36m_read_query_result\u001b[1;34m(self, unbuffered)\u001b[0m\n\u001b[0;32m    774\u001b[0m             \u001b[0mresult\u001b[0m \u001b[1;33m=\u001b[0m \u001b[0mMySQLResult\u001b[0m\u001b[1;33m(\u001b[0m\u001b[0mself\u001b[0m\u001b[1;33m)\u001b[0m\u001b[1;33m\u001b[0m\u001b[1;33m\u001b[0m\u001b[0m\n\u001b[1;32m--> 775\u001b[1;33m             \u001b[0mresult\u001b[0m\u001b[1;33m.\u001b[0m\u001b[0mread\u001b[0m\u001b[1;33m(\u001b[0m\u001b[1;33m)\u001b[0m\u001b[1;33m\u001b[0m\u001b[1;33m\u001b[0m\u001b[0m\n\u001b[0m\u001b[0;32m    776\u001b[0m         \u001b[0mself\u001b[0m\u001b[1;33m.\u001b[0m\u001b[0m_result\u001b[0m \u001b[1;33m=\u001b[0m \u001b[0mresult\u001b[0m\u001b[1;33m\u001b[0m\u001b[1;33m\u001b[0m\u001b[0m\n",
      "\u001b[1;32m~\\anaconda3\\lib\\site-packages\\pymysql\\connections.py\u001b[0m in \u001b[0;36mread\u001b[1;34m(self)\u001b[0m\n\u001b[0;32m   1155\u001b[0m         \u001b[1;32mtry\u001b[0m\u001b[1;33m:\u001b[0m\u001b[1;33m\u001b[0m\u001b[1;33m\u001b[0m\u001b[0m\n\u001b[1;32m-> 1156\u001b[1;33m             \u001b[0mfirst_packet\u001b[0m \u001b[1;33m=\u001b[0m \u001b[0mself\u001b[0m\u001b[1;33m.\u001b[0m\u001b[0mconnection\u001b[0m\u001b[1;33m.\u001b[0m\u001b[0m_read_packet\u001b[0m\u001b[1;33m(\u001b[0m\u001b[1;33m)\u001b[0m\u001b[1;33m\u001b[0m\u001b[1;33m\u001b[0m\u001b[0m\n\u001b[0m\u001b[0;32m   1157\u001b[0m \u001b[1;33m\u001b[0m\u001b[0m\n",
      "\u001b[1;32m~\\anaconda3\\lib\\site-packages\\pymysql\\connections.py\u001b[0m in \u001b[0;36m_read_packet\u001b[1;34m(self, packet_type)\u001b[0m\n\u001b[0;32m    724\u001b[0m                 \u001b[0mself\u001b[0m\u001b[1;33m.\u001b[0m\u001b[0m_result\u001b[0m\u001b[1;33m.\u001b[0m\u001b[0munbuffered_active\u001b[0m \u001b[1;33m=\u001b[0m \u001b[1;32mFalse\u001b[0m\u001b[1;33m\u001b[0m\u001b[1;33m\u001b[0m\u001b[0m\n\u001b[1;32m--> 725\u001b[1;33m             \u001b[0mpacket\u001b[0m\u001b[1;33m.\u001b[0m\u001b[0mraise_for_error\u001b[0m\u001b[1;33m(\u001b[0m\u001b[1;33m)\u001b[0m\u001b[1;33m\u001b[0m\u001b[1;33m\u001b[0m\u001b[0m\n\u001b[0m\u001b[0;32m    726\u001b[0m         \u001b[1;32mreturn\u001b[0m \u001b[0mpacket\u001b[0m\u001b[1;33m\u001b[0m\u001b[1;33m\u001b[0m\u001b[0m\n",
      "\u001b[1;32m~\\anaconda3\\lib\\site-packages\\pymysql\\protocol.py\u001b[0m in \u001b[0;36mraise_for_error\u001b[1;34m(self)\u001b[0m\n\u001b[0;32m    220\u001b[0m             \u001b[0mprint\u001b[0m\u001b[1;33m(\u001b[0m\u001b[1;34m\"errno =\"\u001b[0m\u001b[1;33m,\u001b[0m \u001b[0merrno\u001b[0m\u001b[1;33m)\u001b[0m\u001b[1;33m\u001b[0m\u001b[1;33m\u001b[0m\u001b[0m\n\u001b[1;32m--> 221\u001b[1;33m         \u001b[0merr\u001b[0m\u001b[1;33m.\u001b[0m\u001b[0mraise_mysql_exception\u001b[0m\u001b[1;33m(\u001b[0m\u001b[0mself\u001b[0m\u001b[1;33m.\u001b[0m\u001b[0m_data\u001b[0m\u001b[1;33m)\u001b[0m\u001b[1;33m\u001b[0m\u001b[1;33m\u001b[0m\u001b[0m\n\u001b[0m\u001b[0;32m    222\u001b[0m \u001b[1;33m\u001b[0m\u001b[0m\n",
      "\u001b[1;32m~\\anaconda3\\lib\\site-packages\\pymysql\\err.py\u001b[0m in \u001b[0;36mraise_mysql_exception\u001b[1;34m(data)\u001b[0m\n\u001b[0;32m    142\u001b[0m         \u001b[0merrorclass\u001b[0m \u001b[1;33m=\u001b[0m \u001b[0mInternalError\u001b[0m \u001b[1;32mif\u001b[0m \u001b[0merrno\u001b[0m \u001b[1;33m<\u001b[0m \u001b[1;36m1000\u001b[0m \u001b[1;32melse\u001b[0m \u001b[0mOperationalError\u001b[0m\u001b[1;33m\u001b[0m\u001b[1;33m\u001b[0m\u001b[0m\n\u001b[1;32m--> 143\u001b[1;33m     \u001b[1;32mraise\u001b[0m \u001b[0merrorclass\u001b[0m\u001b[1;33m(\u001b[0m\u001b[0merrno\u001b[0m\u001b[1;33m,\u001b[0m \u001b[0merrval\u001b[0m\u001b[1;33m)\u001b[0m\u001b[1;33m\u001b[0m\u001b[1;33m\u001b[0m\u001b[0m\n\u001b[0m",
      "\u001b[1;31mOperationalError\u001b[0m: (1054, \"Unknown column 'From' in 'field list'\")",
      "\nThe above exception was the direct cause of the following exception:\n",
      "\u001b[1;31mOperationalError\u001b[0m                          Traceback (most recent call last)",
      "\u001b[1;32m<ipython-input-250-44d0b239c609>\u001b[0m in \u001b[0;36m<module>\u001b[1;34m\u001b[0m\n\u001b[0;32m      1\u001b[0m \u001b[1;31m# load the uniprot dataframe in mysql\u001b[0m\u001b[1;33m\u001b[0m\u001b[1;33m\u001b[0m\u001b[1;33m\u001b[0m\u001b[0m\n\u001b[0;32m      2\u001b[0m (\n\u001b[1;32m----> 3\u001b[1;33m \u001b[0muniprot\u001b[0m\u001b[1;33m\u001b[0m\u001b[1;33m\u001b[0m\u001b[0m\n\u001b[0m\u001b[0;32m      4\u001b[0m     \u001b[1;33m.\u001b[0m\u001b[0mreplace\u001b[0m\u001b[1;33m(\u001b[0m\u001b[1;33m{\u001b[0m\u001b[0mnp\u001b[0m\u001b[1;33m.\u001b[0m\u001b[0mnan\u001b[0m\u001b[1;33m}\u001b[0m\u001b[1;33m,\u001b[0m\u001b[1;34m'unknown'\u001b[0m\u001b[1;33m)\u001b[0m\u001b[1;33m\u001b[0m\u001b[1;33m\u001b[0m\u001b[0m\n\u001b[0;32m      5\u001b[0m     \u001b[1;33m.\u001b[0m\u001b[0mto_sql\u001b[0m\u001b[1;33m(\u001b[0m\u001b[1;34m'covid_uniprot'\u001b[0m\u001b[1;33m,\u001b[0m \u001b[0mif_exists\u001b[0m\u001b[1;33m=\u001b[0m\u001b[1;34m'append'\u001b[0m\u001b[1;33m,\u001b[0m \u001b[0mcon\u001b[0m\u001b[1;33m=\u001b[0m\u001b[0mcon\u001b[0m\u001b[1;33m,\u001b[0m \u001b[0mindex\u001b[0m\u001b[1;33m=\u001b[0m\u001b[1;32mFalse\u001b[0m\u001b[1;33m)\u001b[0m\u001b[1;33m\u001b[0m\u001b[1;33m\u001b[0m\u001b[0m\n",
      "\u001b[1;32m~\\anaconda3\\lib\\site-packages\\pandas\\core\\generic.py\u001b[0m in \u001b[0;36mto_sql\u001b[1;34m(self, name, con, schema, if_exists, index, index_label, chunksize, dtype, method)\u001b[0m\n\u001b[0;32m   2777\u001b[0m         \u001b[1;32mfrom\u001b[0m \u001b[0mpandas\u001b[0m\u001b[1;33m.\u001b[0m\u001b[0mio\u001b[0m \u001b[1;32mimport\u001b[0m \u001b[0msql\u001b[0m\u001b[1;33m\u001b[0m\u001b[1;33m\u001b[0m\u001b[0m\n\u001b[0;32m   2778\u001b[0m \u001b[1;33m\u001b[0m\u001b[0m\n\u001b[1;32m-> 2779\u001b[1;33m         sql.to_sql(\n\u001b[0m\u001b[0;32m   2780\u001b[0m             \u001b[0mself\u001b[0m\u001b[1;33m,\u001b[0m\u001b[1;33m\u001b[0m\u001b[1;33m\u001b[0m\u001b[0m\n\u001b[0;32m   2781\u001b[0m             \u001b[0mname\u001b[0m\u001b[1;33m,\u001b[0m\u001b[1;33m\u001b[0m\u001b[1;33m\u001b[0m\u001b[0m\n",
      "\u001b[1;32m~\\anaconda3\\lib\\site-packages\\pandas\\io\\sql.py\u001b[0m in \u001b[0;36mto_sql\u001b[1;34m(frame, name, con, schema, if_exists, index, index_label, chunksize, dtype, method)\u001b[0m\n\u001b[0;32m    599\u001b[0m         )\n\u001b[0;32m    600\u001b[0m \u001b[1;33m\u001b[0m\u001b[0m\n\u001b[1;32m--> 601\u001b[1;33m     pandas_sql.to_sql(\n\u001b[0m\u001b[0;32m    602\u001b[0m         \u001b[0mframe\u001b[0m\u001b[1;33m,\u001b[0m\u001b[1;33m\u001b[0m\u001b[1;33m\u001b[0m\u001b[0m\n\u001b[0;32m    603\u001b[0m         \u001b[0mname\u001b[0m\u001b[1;33m,\u001b[0m\u001b[1;33m\u001b[0m\u001b[1;33m\u001b[0m\u001b[0m\n",
      "\u001b[1;32m~\\anaconda3\\lib\\site-packages\\pandas\\io\\sql.py\u001b[0m in \u001b[0;36mto_sql\u001b[1;34m(self, frame, name, if_exists, index, index_label, schema, chunksize, dtype, method)\u001b[0m\n\u001b[0;32m   1417\u001b[0m                 \u001b[1;32mraise\u001b[0m \u001b[0mValueError\u001b[0m\u001b[1;33m(\u001b[0m\u001b[1;34m\"inf cannot be used with MySQL\"\u001b[0m\u001b[1;33m)\u001b[0m \u001b[1;32mfrom\u001b[0m \u001b[0merr\u001b[0m\u001b[1;33m\u001b[0m\u001b[1;33m\u001b[0m\u001b[0m\n\u001b[0;32m   1418\u001b[0m             \u001b[1;32melse\u001b[0m\u001b[1;33m:\u001b[0m\u001b[1;33m\u001b[0m\u001b[1;33m\u001b[0m\u001b[0m\n\u001b[1;32m-> 1419\u001b[1;33m                 \u001b[1;32mraise\u001b[0m \u001b[0merr\u001b[0m\u001b[1;33m\u001b[0m\u001b[1;33m\u001b[0m\u001b[0m\n\u001b[0m\u001b[0;32m   1420\u001b[0m \u001b[1;33m\u001b[0m\u001b[0m\n\u001b[0;32m   1421\u001b[0m         \u001b[1;32mif\u001b[0m \u001b[1;32mnot\u001b[0m \u001b[0mname\u001b[0m\u001b[1;33m.\u001b[0m\u001b[0misdigit\u001b[0m\u001b[1;33m(\u001b[0m\u001b[1;33m)\u001b[0m \u001b[1;32mand\u001b[0m \u001b[1;32mnot\u001b[0m \u001b[0mname\u001b[0m\u001b[1;33m.\u001b[0m\u001b[0mislower\u001b[0m\u001b[1;33m(\u001b[0m\u001b[1;33m)\u001b[0m\u001b[1;33m:\u001b[0m\u001b[1;33m\u001b[0m\u001b[1;33m\u001b[0m\u001b[0m\n",
      "\u001b[1;32m~\\anaconda3\\lib\\site-packages\\pandas\\io\\sql.py\u001b[0m in \u001b[0;36mto_sql\u001b[1;34m(self, frame, name, if_exists, index, index_label, schema, chunksize, dtype, method)\u001b[0m\n\u001b[0;32m   1409\u001b[0m \u001b[1;33m\u001b[0m\u001b[0m\n\u001b[0;32m   1410\u001b[0m         \u001b[1;32mtry\u001b[0m\u001b[1;33m:\u001b[0m\u001b[1;33m\u001b[0m\u001b[1;33m\u001b[0m\u001b[0m\n\u001b[1;32m-> 1411\u001b[1;33m             \u001b[0mtable\u001b[0m\u001b[1;33m.\u001b[0m\u001b[0minsert\u001b[0m\u001b[1;33m(\u001b[0m\u001b[0mchunksize\u001b[0m\u001b[1;33m,\u001b[0m \u001b[0mmethod\u001b[0m\u001b[1;33m=\u001b[0m\u001b[0mmethod\u001b[0m\u001b[1;33m)\u001b[0m\u001b[1;33m\u001b[0m\u001b[1;33m\u001b[0m\u001b[0m\n\u001b[0m\u001b[0;32m   1412\u001b[0m         \u001b[1;32mexcept\u001b[0m \u001b[0mexc\u001b[0m\u001b[1;33m.\u001b[0m\u001b[0mSQLAlchemyError\u001b[0m \u001b[1;32mas\u001b[0m \u001b[0merr\u001b[0m\u001b[1;33m:\u001b[0m\u001b[1;33m\u001b[0m\u001b[1;33m\u001b[0m\u001b[0m\n\u001b[0;32m   1413\u001b[0m             \u001b[1;31m# GH34431\u001b[0m\u001b[1;33m\u001b[0m\u001b[1;33m\u001b[0m\u001b[1;33m\u001b[0m\u001b[0m\n",
      "\u001b[1;32m~\\anaconda3\\lib\\site-packages\\pandas\\io\\sql.py\u001b[0m in \u001b[0;36minsert\u001b[1;34m(self, chunksize, method)\u001b[0m\n\u001b[0;32m    843\u001b[0m \u001b[1;33m\u001b[0m\u001b[0m\n\u001b[0;32m    844\u001b[0m                 \u001b[0mchunk_iter\u001b[0m \u001b[1;33m=\u001b[0m \u001b[0mzip\u001b[0m\u001b[1;33m(\u001b[0m\u001b[1;33m*\u001b[0m\u001b[1;33m[\u001b[0m\u001b[0marr\u001b[0m\u001b[1;33m[\u001b[0m\u001b[0mstart_i\u001b[0m\u001b[1;33m:\u001b[0m\u001b[0mend_i\u001b[0m\u001b[1;33m]\u001b[0m \u001b[1;32mfor\u001b[0m \u001b[0marr\u001b[0m \u001b[1;32min\u001b[0m \u001b[0mdata_list\u001b[0m\u001b[1;33m]\u001b[0m\u001b[1;33m)\u001b[0m\u001b[1;33m\u001b[0m\u001b[1;33m\u001b[0m\u001b[0m\n\u001b[1;32m--> 845\u001b[1;33m                 \u001b[0mexec_insert\u001b[0m\u001b[1;33m(\u001b[0m\u001b[0mconn\u001b[0m\u001b[1;33m,\u001b[0m \u001b[0mkeys\u001b[0m\u001b[1;33m,\u001b[0m \u001b[0mchunk_iter\u001b[0m\u001b[1;33m)\u001b[0m\u001b[1;33m\u001b[0m\u001b[1;33m\u001b[0m\u001b[0m\n\u001b[0m\u001b[0;32m    846\u001b[0m \u001b[1;33m\u001b[0m\u001b[0m\n\u001b[0;32m    847\u001b[0m     def _query_iterator(\n",
      "\u001b[1;32m~\\anaconda3\\lib\\site-packages\\pandas\\io\\sql.py\u001b[0m in \u001b[0;36m_execute_insert\u001b[1;34m(self, conn, keys, data_iter)\u001b[0m\n\u001b[0;32m    760\u001b[0m         \"\"\"\n\u001b[0;32m    761\u001b[0m         \u001b[0mdata\u001b[0m \u001b[1;33m=\u001b[0m \u001b[1;33m[\u001b[0m\u001b[0mdict\u001b[0m\u001b[1;33m(\u001b[0m\u001b[0mzip\u001b[0m\u001b[1;33m(\u001b[0m\u001b[0mkeys\u001b[0m\u001b[1;33m,\u001b[0m \u001b[0mrow\u001b[0m\u001b[1;33m)\u001b[0m\u001b[1;33m)\u001b[0m \u001b[1;32mfor\u001b[0m \u001b[0mrow\u001b[0m \u001b[1;32min\u001b[0m \u001b[0mdata_iter\u001b[0m\u001b[1;33m]\u001b[0m\u001b[1;33m\u001b[0m\u001b[1;33m\u001b[0m\u001b[0m\n\u001b[1;32m--> 762\u001b[1;33m         \u001b[0mconn\u001b[0m\u001b[1;33m.\u001b[0m\u001b[0mexecute\u001b[0m\u001b[1;33m(\u001b[0m\u001b[0mself\u001b[0m\u001b[1;33m.\u001b[0m\u001b[0mtable\u001b[0m\u001b[1;33m.\u001b[0m\u001b[0minsert\u001b[0m\u001b[1;33m(\u001b[0m\u001b[1;33m)\u001b[0m\u001b[1;33m,\u001b[0m \u001b[0mdata\u001b[0m\u001b[1;33m)\u001b[0m\u001b[1;33m\u001b[0m\u001b[1;33m\u001b[0m\u001b[0m\n\u001b[0m\u001b[0;32m    763\u001b[0m \u001b[1;33m\u001b[0m\u001b[0m\n\u001b[0;32m    764\u001b[0m     \u001b[1;32mdef\u001b[0m \u001b[0m_execute_insert_multi\u001b[0m\u001b[1;33m(\u001b[0m\u001b[0mself\u001b[0m\u001b[1;33m,\u001b[0m \u001b[0mconn\u001b[0m\u001b[1;33m,\u001b[0m \u001b[0mkeys\u001b[0m\u001b[1;33m,\u001b[0m \u001b[0mdata_iter\u001b[0m\u001b[1;33m)\u001b[0m\u001b[1;33m:\u001b[0m\u001b[1;33m\u001b[0m\u001b[1;33m\u001b[0m\u001b[0m\n",
      "\u001b[1;32m~\\anaconda3\\lib\\site-packages\\sqlalchemy\\engine\\base.py\u001b[0m in \u001b[0;36mexecute\u001b[1;34m(self, statement, *multiparams, **params)\u001b[0m\n\u001b[0;32m   1198\u001b[0m             )\n\u001b[0;32m   1199\u001b[0m         \u001b[1;32melse\u001b[0m\u001b[1;33m:\u001b[0m\u001b[1;33m\u001b[0m\u001b[1;33m\u001b[0m\u001b[0m\n\u001b[1;32m-> 1200\u001b[1;33m             \u001b[1;32mreturn\u001b[0m \u001b[0mmeth\u001b[0m\u001b[1;33m(\u001b[0m\u001b[0mself\u001b[0m\u001b[1;33m,\u001b[0m \u001b[0mmultiparams\u001b[0m\u001b[1;33m,\u001b[0m \u001b[0mparams\u001b[0m\u001b[1;33m,\u001b[0m \u001b[0m_EMPTY_EXECUTION_OPTS\u001b[0m\u001b[1;33m)\u001b[0m\u001b[1;33m\u001b[0m\u001b[1;33m\u001b[0m\u001b[0m\n\u001b[0m\u001b[0;32m   1201\u001b[0m \u001b[1;33m\u001b[0m\u001b[0m\n\u001b[0;32m   1202\u001b[0m     \u001b[1;32mdef\u001b[0m \u001b[0m_execute_function\u001b[0m\u001b[1;33m(\u001b[0m\u001b[0mself\u001b[0m\u001b[1;33m,\u001b[0m \u001b[0mfunc\u001b[0m\u001b[1;33m,\u001b[0m \u001b[0mmultiparams\u001b[0m\u001b[1;33m,\u001b[0m \u001b[0mparams\u001b[0m\u001b[1;33m,\u001b[0m \u001b[0mexecution_options\u001b[0m\u001b[1;33m)\u001b[0m\u001b[1;33m:\u001b[0m\u001b[1;33m\u001b[0m\u001b[1;33m\u001b[0m\u001b[0m\n",
      "\u001b[1;32m~\\anaconda3\\lib\\site-packages\\sqlalchemy\\sql\\elements.py\u001b[0m in \u001b[0;36m_execute_on_connection\u001b[1;34m(self, connection, multiparams, params, execution_options, _force)\u001b[0m\n\u001b[0;32m    311\u001b[0m     ):\n\u001b[0;32m    312\u001b[0m         \u001b[1;32mif\u001b[0m \u001b[0m_force\u001b[0m \u001b[1;32mor\u001b[0m \u001b[0mself\u001b[0m\u001b[1;33m.\u001b[0m\u001b[0msupports_execution\u001b[0m\u001b[1;33m:\u001b[0m\u001b[1;33m\u001b[0m\u001b[1;33m\u001b[0m\u001b[0m\n\u001b[1;32m--> 313\u001b[1;33m             return connection._execute_clauseelement(\n\u001b[0m\u001b[0;32m    314\u001b[0m                 \u001b[0mself\u001b[0m\u001b[1;33m,\u001b[0m \u001b[0mmultiparams\u001b[0m\u001b[1;33m,\u001b[0m \u001b[0mparams\u001b[0m\u001b[1;33m,\u001b[0m \u001b[0mexecution_options\u001b[0m\u001b[1;33m\u001b[0m\u001b[1;33m\u001b[0m\u001b[0m\n\u001b[0;32m    315\u001b[0m             )\n",
      "\u001b[1;32m~\\anaconda3\\lib\\site-packages\\sqlalchemy\\engine\\base.py\u001b[0m in \u001b[0;36m_execute_clauseelement\u001b[1;34m(self, elem, multiparams, params, execution_options)\u001b[0m\n\u001b[0;32m   1387\u001b[0m             \u001b[0mlinting\u001b[0m\u001b[1;33m=\u001b[0m\u001b[0mself\u001b[0m\u001b[1;33m.\u001b[0m\u001b[0mdialect\u001b[0m\u001b[1;33m.\u001b[0m\u001b[0mcompiler_linting\u001b[0m \u001b[1;33m|\u001b[0m \u001b[0mcompiler\u001b[0m\u001b[1;33m.\u001b[0m\u001b[0mWARN_LINTING\u001b[0m\u001b[1;33m,\u001b[0m\u001b[1;33m\u001b[0m\u001b[1;33m\u001b[0m\u001b[0m\n\u001b[0;32m   1388\u001b[0m         )\n\u001b[1;32m-> 1389\u001b[1;33m         ret = self._execute_context(\n\u001b[0m\u001b[0;32m   1390\u001b[0m             \u001b[0mdialect\u001b[0m\u001b[1;33m,\u001b[0m\u001b[1;33m\u001b[0m\u001b[1;33m\u001b[0m\u001b[0m\n\u001b[0;32m   1391\u001b[0m             \u001b[0mdialect\u001b[0m\u001b[1;33m.\u001b[0m\u001b[0mexecution_ctx_cls\u001b[0m\u001b[1;33m.\u001b[0m\u001b[0m_init_compiled\u001b[0m\u001b[1;33m,\u001b[0m\u001b[1;33m\u001b[0m\u001b[1;33m\u001b[0m\u001b[0m\n",
      "\u001b[1;32m~\\anaconda3\\lib\\site-packages\\sqlalchemy\\engine\\base.py\u001b[0m in \u001b[0;36m_execute_context\u001b[1;34m(self, dialect, constructor, statement, parameters, execution_options, *args, **kw)\u001b[0m\n\u001b[0;32m   1746\u001b[0m \u001b[1;33m\u001b[0m\u001b[0m\n\u001b[0;32m   1747\u001b[0m         \u001b[1;32mexcept\u001b[0m \u001b[0mBaseException\u001b[0m \u001b[1;32mas\u001b[0m \u001b[0me\u001b[0m\u001b[1;33m:\u001b[0m\u001b[1;33m\u001b[0m\u001b[1;33m\u001b[0m\u001b[0m\n\u001b[1;32m-> 1748\u001b[1;33m             self._handle_dbapi_exception(\n\u001b[0m\u001b[0;32m   1749\u001b[0m                 \u001b[0me\u001b[0m\u001b[1;33m,\u001b[0m \u001b[0mstatement\u001b[0m\u001b[1;33m,\u001b[0m \u001b[0mparameters\u001b[0m\u001b[1;33m,\u001b[0m \u001b[0mcursor\u001b[0m\u001b[1;33m,\u001b[0m \u001b[0mcontext\u001b[0m\u001b[1;33m\u001b[0m\u001b[1;33m\u001b[0m\u001b[0m\n\u001b[0;32m   1750\u001b[0m             )\n",
      "\u001b[1;32m~\\anaconda3\\lib\\site-packages\\sqlalchemy\\engine\\base.py\u001b[0m in \u001b[0;36m_handle_dbapi_exception\u001b[1;34m(self, e, statement, parameters, cursor, context)\u001b[0m\n\u001b[0;32m   1927\u001b[0m                 \u001b[0mutil\u001b[0m\u001b[1;33m.\u001b[0m\u001b[0mraise_\u001b[0m\u001b[1;33m(\u001b[0m\u001b[0mnewraise\u001b[0m\u001b[1;33m,\u001b[0m \u001b[0mwith_traceback\u001b[0m\u001b[1;33m=\u001b[0m\u001b[0mexc_info\u001b[0m\u001b[1;33m[\u001b[0m\u001b[1;36m2\u001b[0m\u001b[1;33m]\u001b[0m\u001b[1;33m,\u001b[0m \u001b[0mfrom_\u001b[0m\u001b[1;33m=\u001b[0m\u001b[0me\u001b[0m\u001b[1;33m)\u001b[0m\u001b[1;33m\u001b[0m\u001b[1;33m\u001b[0m\u001b[0m\n\u001b[0;32m   1928\u001b[0m             \u001b[1;32melif\u001b[0m \u001b[0mshould_wrap\u001b[0m\u001b[1;33m:\u001b[0m\u001b[1;33m\u001b[0m\u001b[1;33m\u001b[0m\u001b[0m\n\u001b[1;32m-> 1929\u001b[1;33m                 util.raise_(\n\u001b[0m\u001b[0;32m   1930\u001b[0m                     \u001b[0msqlalchemy_exception\u001b[0m\u001b[1;33m,\u001b[0m \u001b[0mwith_traceback\u001b[0m\u001b[1;33m=\u001b[0m\u001b[0mexc_info\u001b[0m\u001b[1;33m[\u001b[0m\u001b[1;36m2\u001b[0m\u001b[1;33m]\u001b[0m\u001b[1;33m,\u001b[0m \u001b[0mfrom_\u001b[0m\u001b[1;33m=\u001b[0m\u001b[0me\u001b[0m\u001b[1;33m\u001b[0m\u001b[1;33m\u001b[0m\u001b[0m\n\u001b[0;32m   1931\u001b[0m                 )\n",
      "\u001b[1;32m~\\anaconda3\\lib\\site-packages\\sqlalchemy\\util\\compat.py\u001b[0m in \u001b[0;36mraise_\u001b[1;34m(***failed resolving arguments***)\u001b[0m\n\u001b[0;32m    209\u001b[0m \u001b[1;33m\u001b[0m\u001b[0m\n\u001b[0;32m    210\u001b[0m         \u001b[1;32mtry\u001b[0m\u001b[1;33m:\u001b[0m\u001b[1;33m\u001b[0m\u001b[1;33m\u001b[0m\u001b[0m\n\u001b[1;32m--> 211\u001b[1;33m             \u001b[1;32mraise\u001b[0m \u001b[0mexception\u001b[0m\u001b[1;33m\u001b[0m\u001b[1;33m\u001b[0m\u001b[0m\n\u001b[0m\u001b[0;32m    212\u001b[0m         \u001b[1;32mfinally\u001b[0m\u001b[1;33m:\u001b[0m\u001b[1;33m\u001b[0m\u001b[1;33m\u001b[0m\u001b[0m\n\u001b[0;32m    213\u001b[0m             \u001b[1;31m# credit to\u001b[0m\u001b[1;33m\u001b[0m\u001b[1;33m\u001b[0m\u001b[1;33m\u001b[0m\u001b[0m\n",
      "\u001b[1;32m~\\anaconda3\\lib\\site-packages\\sqlalchemy\\engine\\base.py\u001b[0m in \u001b[0;36m_execute_context\u001b[1;34m(self, dialect, constructor, statement, parameters, execution_options, *args, **kw)\u001b[0m\n\u001b[0;32m   1683\u001b[0m                             \u001b[1;32mbreak\u001b[0m\u001b[1;33m\u001b[0m\u001b[1;33m\u001b[0m\u001b[0m\n\u001b[0;32m   1684\u001b[0m                 \u001b[1;32mif\u001b[0m \u001b[1;32mnot\u001b[0m \u001b[0mevt_handled\u001b[0m\u001b[1;33m:\u001b[0m\u001b[1;33m\u001b[0m\u001b[1;33m\u001b[0m\u001b[0m\n\u001b[1;32m-> 1685\u001b[1;33m                     self.dialect.do_executemany(\n\u001b[0m\u001b[0;32m   1686\u001b[0m                         \u001b[0mcursor\u001b[0m\u001b[1;33m,\u001b[0m \u001b[0mstatement\u001b[0m\u001b[1;33m,\u001b[0m \u001b[0mparameters\u001b[0m\u001b[1;33m,\u001b[0m \u001b[0mcontext\u001b[0m\u001b[1;33m\u001b[0m\u001b[1;33m\u001b[0m\u001b[0m\n\u001b[0;32m   1687\u001b[0m                     )\n",
      "\u001b[1;32m~\\anaconda3\\lib\\site-packages\\sqlalchemy\\dialects\\mysql\\mysqldb.py\u001b[0m in \u001b[0;36mdo_executemany\u001b[1;34m(self, cursor, statement, parameters, context)\u001b[0m\n\u001b[0;32m    146\u001b[0m \u001b[1;33m\u001b[0m\u001b[0m\n\u001b[0;32m    147\u001b[0m     \u001b[1;32mdef\u001b[0m \u001b[0mdo_executemany\u001b[0m\u001b[1;33m(\u001b[0m\u001b[0mself\u001b[0m\u001b[1;33m,\u001b[0m \u001b[0mcursor\u001b[0m\u001b[1;33m,\u001b[0m \u001b[0mstatement\u001b[0m\u001b[1;33m,\u001b[0m \u001b[0mparameters\u001b[0m\u001b[1;33m,\u001b[0m \u001b[0mcontext\u001b[0m\u001b[1;33m=\u001b[0m\u001b[1;32mNone\u001b[0m\u001b[1;33m)\u001b[0m\u001b[1;33m:\u001b[0m\u001b[1;33m\u001b[0m\u001b[1;33m\u001b[0m\u001b[0m\n\u001b[1;32m--> 148\u001b[1;33m         \u001b[0mrowcount\u001b[0m \u001b[1;33m=\u001b[0m \u001b[0mcursor\u001b[0m\u001b[1;33m.\u001b[0m\u001b[0mexecutemany\u001b[0m\u001b[1;33m(\u001b[0m\u001b[0mstatement\u001b[0m\u001b[1;33m,\u001b[0m \u001b[0mparameters\u001b[0m\u001b[1;33m)\u001b[0m\u001b[1;33m\u001b[0m\u001b[1;33m\u001b[0m\u001b[0m\n\u001b[0m\u001b[0;32m    149\u001b[0m         \u001b[1;32mif\u001b[0m \u001b[0mcontext\u001b[0m \u001b[1;32mis\u001b[0m \u001b[1;32mnot\u001b[0m \u001b[1;32mNone\u001b[0m\u001b[1;33m:\u001b[0m\u001b[1;33m\u001b[0m\u001b[1;33m\u001b[0m\u001b[0m\n\u001b[0;32m    150\u001b[0m             \u001b[0mcontext\u001b[0m\u001b[1;33m.\u001b[0m\u001b[0m_rowcount\u001b[0m \u001b[1;33m=\u001b[0m \u001b[0mrowcount\u001b[0m\u001b[1;33m\u001b[0m\u001b[1;33m\u001b[0m\u001b[0m\n",
      "\u001b[1;32m~\\anaconda3\\lib\\site-packages\\pymysql\\cursors.py\u001b[0m in \u001b[0;36mexecutemany\u001b[1;34m(self, query, args)\u001b[0m\n\u001b[0;32m    171\u001b[0m             \u001b[0mq_postfix\u001b[0m \u001b[1;33m=\u001b[0m \u001b[0mm\u001b[0m\u001b[1;33m.\u001b[0m\u001b[0mgroup\u001b[0m\u001b[1;33m(\u001b[0m\u001b[1;36m3\u001b[0m\u001b[1;33m)\u001b[0m \u001b[1;32mor\u001b[0m \u001b[1;34m\"\"\u001b[0m\u001b[1;33m\u001b[0m\u001b[1;33m\u001b[0m\u001b[0m\n\u001b[0;32m    172\u001b[0m             \u001b[1;32massert\u001b[0m \u001b[0mq_values\u001b[0m\u001b[1;33m[\u001b[0m\u001b[1;36m0\u001b[0m\u001b[1;33m]\u001b[0m \u001b[1;33m==\u001b[0m \u001b[1;34m\"(\"\u001b[0m \u001b[1;32mand\u001b[0m \u001b[0mq_values\u001b[0m\u001b[1;33m[\u001b[0m\u001b[1;33m-\u001b[0m\u001b[1;36m1\u001b[0m\u001b[1;33m]\u001b[0m \u001b[1;33m==\u001b[0m \u001b[1;34m\")\"\u001b[0m\u001b[1;33m\u001b[0m\u001b[1;33m\u001b[0m\u001b[0m\n\u001b[1;32m--> 173\u001b[1;33m             return self._do_execute_many(\n\u001b[0m\u001b[0;32m    174\u001b[0m                 \u001b[0mq_prefix\u001b[0m\u001b[1;33m,\u001b[0m\u001b[1;33m\u001b[0m\u001b[1;33m\u001b[0m\u001b[0m\n\u001b[0;32m    175\u001b[0m                 \u001b[0mq_values\u001b[0m\u001b[1;33m,\u001b[0m\u001b[1;33m\u001b[0m\u001b[1;33m\u001b[0m\u001b[0m\n",
      "\u001b[1;32m~\\anaconda3\\lib\\site-packages\\pymysql\\cursors.py\u001b[0m in \u001b[0;36m_do_execute_many\u001b[1;34m(self, prefix, values, postfix, args, max_stmt_length, encoding)\u001b[0m\n\u001b[0;32m    209\u001b[0m                 \u001b[0msql\u001b[0m \u001b[1;33m+=\u001b[0m \u001b[1;34mb\",\"\u001b[0m\u001b[1;33m\u001b[0m\u001b[1;33m\u001b[0m\u001b[0m\n\u001b[0;32m    210\u001b[0m             \u001b[0msql\u001b[0m \u001b[1;33m+=\u001b[0m \u001b[0mv\u001b[0m\u001b[1;33m\u001b[0m\u001b[1;33m\u001b[0m\u001b[0m\n\u001b[1;32m--> 211\u001b[1;33m         \u001b[0mrows\u001b[0m \u001b[1;33m+=\u001b[0m \u001b[0mself\u001b[0m\u001b[1;33m.\u001b[0m\u001b[0mexecute\u001b[0m\u001b[1;33m(\u001b[0m\u001b[0msql\u001b[0m \u001b[1;33m+\u001b[0m \u001b[0mpostfix\u001b[0m\u001b[1;33m)\u001b[0m\u001b[1;33m\u001b[0m\u001b[1;33m\u001b[0m\u001b[0m\n\u001b[0m\u001b[0;32m    212\u001b[0m         \u001b[0mself\u001b[0m\u001b[1;33m.\u001b[0m\u001b[0mrowcount\u001b[0m \u001b[1;33m=\u001b[0m \u001b[0mrows\u001b[0m\u001b[1;33m\u001b[0m\u001b[1;33m\u001b[0m\u001b[0m\n\u001b[0;32m    213\u001b[0m         \u001b[1;32mreturn\u001b[0m \u001b[0mrows\u001b[0m\u001b[1;33m\u001b[0m\u001b[1;33m\u001b[0m\u001b[0m\n",
      "\u001b[1;32m~\\anaconda3\\lib\\site-packages\\pymysql\\cursors.py\u001b[0m in \u001b[0;36mexecute\u001b[1;34m(self, query, args)\u001b[0m\n\u001b[0;32m    146\u001b[0m         \u001b[0mquery\u001b[0m \u001b[1;33m=\u001b[0m \u001b[0mself\u001b[0m\u001b[1;33m.\u001b[0m\u001b[0mmogrify\u001b[0m\u001b[1;33m(\u001b[0m\u001b[0mquery\u001b[0m\u001b[1;33m,\u001b[0m \u001b[0margs\u001b[0m\u001b[1;33m)\u001b[0m\u001b[1;33m\u001b[0m\u001b[1;33m\u001b[0m\u001b[0m\n\u001b[0;32m    147\u001b[0m \u001b[1;33m\u001b[0m\u001b[0m\n\u001b[1;32m--> 148\u001b[1;33m         \u001b[0mresult\u001b[0m \u001b[1;33m=\u001b[0m \u001b[0mself\u001b[0m\u001b[1;33m.\u001b[0m\u001b[0m_query\u001b[0m\u001b[1;33m(\u001b[0m\u001b[0mquery\u001b[0m\u001b[1;33m)\u001b[0m\u001b[1;33m\u001b[0m\u001b[1;33m\u001b[0m\u001b[0m\n\u001b[0m\u001b[0;32m    149\u001b[0m         \u001b[0mself\u001b[0m\u001b[1;33m.\u001b[0m\u001b[0m_executed\u001b[0m \u001b[1;33m=\u001b[0m \u001b[0mquery\u001b[0m\u001b[1;33m\u001b[0m\u001b[1;33m\u001b[0m\u001b[0m\n\u001b[0;32m    150\u001b[0m         \u001b[1;32mreturn\u001b[0m \u001b[0mresult\u001b[0m\u001b[1;33m\u001b[0m\u001b[1;33m\u001b[0m\u001b[0m\n",
      "\u001b[1;32m~\\anaconda3\\lib\\site-packages\\pymysql\\cursors.py\u001b[0m in \u001b[0;36m_query\u001b[1;34m(self, q)\u001b[0m\n\u001b[0;32m    308\u001b[0m         \u001b[0mself\u001b[0m\u001b[1;33m.\u001b[0m\u001b[0m_last_executed\u001b[0m \u001b[1;33m=\u001b[0m \u001b[0mq\u001b[0m\u001b[1;33m\u001b[0m\u001b[1;33m\u001b[0m\u001b[0m\n\u001b[0;32m    309\u001b[0m         \u001b[0mself\u001b[0m\u001b[1;33m.\u001b[0m\u001b[0m_clear_result\u001b[0m\u001b[1;33m(\u001b[0m\u001b[1;33m)\u001b[0m\u001b[1;33m\u001b[0m\u001b[1;33m\u001b[0m\u001b[0m\n\u001b[1;32m--> 310\u001b[1;33m         \u001b[0mconn\u001b[0m\u001b[1;33m.\u001b[0m\u001b[0mquery\u001b[0m\u001b[1;33m(\u001b[0m\u001b[0mq\u001b[0m\u001b[1;33m)\u001b[0m\u001b[1;33m\u001b[0m\u001b[1;33m\u001b[0m\u001b[0m\n\u001b[0m\u001b[0;32m    311\u001b[0m         \u001b[0mself\u001b[0m\u001b[1;33m.\u001b[0m\u001b[0m_do_get_result\u001b[0m\u001b[1;33m(\u001b[0m\u001b[1;33m)\u001b[0m\u001b[1;33m\u001b[0m\u001b[1;33m\u001b[0m\u001b[0m\n\u001b[0;32m    312\u001b[0m         \u001b[1;32mreturn\u001b[0m \u001b[0mself\u001b[0m\u001b[1;33m.\u001b[0m\u001b[0mrowcount\u001b[0m\u001b[1;33m\u001b[0m\u001b[1;33m\u001b[0m\u001b[0m\n",
      "\u001b[1;32m~\\anaconda3\\lib\\site-packages\\pymysql\\connections.py\u001b[0m in \u001b[0;36mquery\u001b[1;34m(self, sql, unbuffered)\u001b[0m\n\u001b[0;32m    546\u001b[0m             \u001b[0msql\u001b[0m \u001b[1;33m=\u001b[0m \u001b[0msql\u001b[0m\u001b[1;33m.\u001b[0m\u001b[0mencode\u001b[0m\u001b[1;33m(\u001b[0m\u001b[0mself\u001b[0m\u001b[1;33m.\u001b[0m\u001b[0mencoding\u001b[0m\u001b[1;33m,\u001b[0m \u001b[1;34m\"surrogateescape\"\u001b[0m\u001b[1;33m)\u001b[0m\u001b[1;33m\u001b[0m\u001b[1;33m\u001b[0m\u001b[0m\n\u001b[0;32m    547\u001b[0m         \u001b[0mself\u001b[0m\u001b[1;33m.\u001b[0m\u001b[0m_execute_command\u001b[0m\u001b[1;33m(\u001b[0m\u001b[0mCOMMAND\u001b[0m\u001b[1;33m.\u001b[0m\u001b[0mCOM_QUERY\u001b[0m\u001b[1;33m,\u001b[0m \u001b[0msql\u001b[0m\u001b[1;33m)\u001b[0m\u001b[1;33m\u001b[0m\u001b[1;33m\u001b[0m\u001b[0m\n\u001b[1;32m--> 548\u001b[1;33m         \u001b[0mself\u001b[0m\u001b[1;33m.\u001b[0m\u001b[0m_affected_rows\u001b[0m \u001b[1;33m=\u001b[0m \u001b[0mself\u001b[0m\u001b[1;33m.\u001b[0m\u001b[0m_read_query_result\u001b[0m\u001b[1;33m(\u001b[0m\u001b[0munbuffered\u001b[0m\u001b[1;33m=\u001b[0m\u001b[0munbuffered\u001b[0m\u001b[1;33m)\u001b[0m\u001b[1;33m\u001b[0m\u001b[1;33m\u001b[0m\u001b[0m\n\u001b[0m\u001b[0;32m    549\u001b[0m         \u001b[1;32mreturn\u001b[0m \u001b[0mself\u001b[0m\u001b[1;33m.\u001b[0m\u001b[0m_affected_rows\u001b[0m\u001b[1;33m\u001b[0m\u001b[1;33m\u001b[0m\u001b[0m\n\u001b[0;32m    550\u001b[0m \u001b[1;33m\u001b[0m\u001b[0m\n",
      "\u001b[1;32m~\\anaconda3\\lib\\site-packages\\pymysql\\connections.py\u001b[0m in \u001b[0;36m_read_query_result\u001b[1;34m(self, unbuffered)\u001b[0m\n\u001b[0;32m    773\u001b[0m         \u001b[1;32melse\u001b[0m\u001b[1;33m:\u001b[0m\u001b[1;33m\u001b[0m\u001b[1;33m\u001b[0m\u001b[0m\n\u001b[0;32m    774\u001b[0m             \u001b[0mresult\u001b[0m \u001b[1;33m=\u001b[0m \u001b[0mMySQLResult\u001b[0m\u001b[1;33m(\u001b[0m\u001b[0mself\u001b[0m\u001b[1;33m)\u001b[0m\u001b[1;33m\u001b[0m\u001b[1;33m\u001b[0m\u001b[0m\n\u001b[1;32m--> 775\u001b[1;33m             \u001b[0mresult\u001b[0m\u001b[1;33m.\u001b[0m\u001b[0mread\u001b[0m\u001b[1;33m(\u001b[0m\u001b[1;33m)\u001b[0m\u001b[1;33m\u001b[0m\u001b[1;33m\u001b[0m\u001b[0m\n\u001b[0m\u001b[0;32m    776\u001b[0m         \u001b[0mself\u001b[0m\u001b[1;33m.\u001b[0m\u001b[0m_result\u001b[0m \u001b[1;33m=\u001b[0m \u001b[0mresult\u001b[0m\u001b[1;33m\u001b[0m\u001b[1;33m\u001b[0m\u001b[0m\n\u001b[0;32m    777\u001b[0m         \u001b[1;32mif\u001b[0m \u001b[0mresult\u001b[0m\u001b[1;33m.\u001b[0m\u001b[0mserver_status\u001b[0m \u001b[1;32mis\u001b[0m \u001b[1;32mnot\u001b[0m \u001b[1;32mNone\u001b[0m\u001b[1;33m:\u001b[0m\u001b[1;33m\u001b[0m\u001b[1;33m\u001b[0m\u001b[0m\n",
      "\u001b[1;32m~\\anaconda3\\lib\\site-packages\\pymysql\\connections.py\u001b[0m in \u001b[0;36mread\u001b[1;34m(self)\u001b[0m\n\u001b[0;32m   1154\u001b[0m     \u001b[1;32mdef\u001b[0m \u001b[0mread\u001b[0m\u001b[1;33m(\u001b[0m\u001b[0mself\u001b[0m\u001b[1;33m)\u001b[0m\u001b[1;33m:\u001b[0m\u001b[1;33m\u001b[0m\u001b[1;33m\u001b[0m\u001b[0m\n\u001b[0;32m   1155\u001b[0m         \u001b[1;32mtry\u001b[0m\u001b[1;33m:\u001b[0m\u001b[1;33m\u001b[0m\u001b[1;33m\u001b[0m\u001b[0m\n\u001b[1;32m-> 1156\u001b[1;33m             \u001b[0mfirst_packet\u001b[0m \u001b[1;33m=\u001b[0m \u001b[0mself\u001b[0m\u001b[1;33m.\u001b[0m\u001b[0mconnection\u001b[0m\u001b[1;33m.\u001b[0m\u001b[0m_read_packet\u001b[0m\u001b[1;33m(\u001b[0m\u001b[1;33m)\u001b[0m\u001b[1;33m\u001b[0m\u001b[1;33m\u001b[0m\u001b[0m\n\u001b[0m\u001b[0;32m   1157\u001b[0m \u001b[1;33m\u001b[0m\u001b[0m\n\u001b[0;32m   1158\u001b[0m             \u001b[1;32mif\u001b[0m \u001b[0mfirst_packet\u001b[0m\u001b[1;33m.\u001b[0m\u001b[0mis_ok_packet\u001b[0m\u001b[1;33m(\u001b[0m\u001b[1;33m)\u001b[0m\u001b[1;33m:\u001b[0m\u001b[1;33m\u001b[0m\u001b[1;33m\u001b[0m\u001b[0m\n",
      "\u001b[1;32m~\\anaconda3\\lib\\site-packages\\pymysql\\connections.py\u001b[0m in \u001b[0;36m_read_packet\u001b[1;34m(self, packet_type)\u001b[0m\n\u001b[0;32m    723\u001b[0m             \u001b[1;32mif\u001b[0m \u001b[0mself\u001b[0m\u001b[1;33m.\u001b[0m\u001b[0m_result\u001b[0m \u001b[1;32mis\u001b[0m \u001b[1;32mnot\u001b[0m \u001b[1;32mNone\u001b[0m \u001b[1;32mand\u001b[0m \u001b[0mself\u001b[0m\u001b[1;33m.\u001b[0m\u001b[0m_result\u001b[0m\u001b[1;33m.\u001b[0m\u001b[0munbuffered_active\u001b[0m \u001b[1;32mis\u001b[0m \u001b[1;32mTrue\u001b[0m\u001b[1;33m:\u001b[0m\u001b[1;33m\u001b[0m\u001b[1;33m\u001b[0m\u001b[0m\n\u001b[0;32m    724\u001b[0m                 \u001b[0mself\u001b[0m\u001b[1;33m.\u001b[0m\u001b[0m_result\u001b[0m\u001b[1;33m.\u001b[0m\u001b[0munbuffered_active\u001b[0m \u001b[1;33m=\u001b[0m \u001b[1;32mFalse\u001b[0m\u001b[1;33m\u001b[0m\u001b[1;33m\u001b[0m\u001b[0m\n\u001b[1;32m--> 725\u001b[1;33m             \u001b[0mpacket\u001b[0m\u001b[1;33m.\u001b[0m\u001b[0mraise_for_error\u001b[0m\u001b[1;33m(\u001b[0m\u001b[1;33m)\u001b[0m\u001b[1;33m\u001b[0m\u001b[1;33m\u001b[0m\u001b[0m\n\u001b[0m\u001b[0;32m    726\u001b[0m         \u001b[1;32mreturn\u001b[0m \u001b[0mpacket\u001b[0m\u001b[1;33m\u001b[0m\u001b[1;33m\u001b[0m\u001b[0m\n\u001b[0;32m    727\u001b[0m \u001b[1;33m\u001b[0m\u001b[0m\n",
      "\u001b[1;32m~\\anaconda3\\lib\\site-packages\\pymysql\\protocol.py\u001b[0m in \u001b[0;36mraise_for_error\u001b[1;34m(self)\u001b[0m\n\u001b[0;32m    219\u001b[0m         \u001b[1;32mif\u001b[0m \u001b[0mDEBUG\u001b[0m\u001b[1;33m:\u001b[0m\u001b[1;33m\u001b[0m\u001b[1;33m\u001b[0m\u001b[0m\n\u001b[0;32m    220\u001b[0m             \u001b[0mprint\u001b[0m\u001b[1;33m(\u001b[0m\u001b[1;34m\"errno =\"\u001b[0m\u001b[1;33m,\u001b[0m \u001b[0merrno\u001b[0m\u001b[1;33m)\u001b[0m\u001b[1;33m\u001b[0m\u001b[1;33m\u001b[0m\u001b[0m\n\u001b[1;32m--> 221\u001b[1;33m         \u001b[0merr\u001b[0m\u001b[1;33m.\u001b[0m\u001b[0mraise_mysql_exception\u001b[0m\u001b[1;33m(\u001b[0m\u001b[0mself\u001b[0m\u001b[1;33m.\u001b[0m\u001b[0m_data\u001b[0m\u001b[1;33m)\u001b[0m\u001b[1;33m\u001b[0m\u001b[1;33m\u001b[0m\u001b[0m\n\u001b[0m\u001b[0;32m    222\u001b[0m \u001b[1;33m\u001b[0m\u001b[0m\n\u001b[0;32m    223\u001b[0m     \u001b[1;32mdef\u001b[0m \u001b[0mdump\u001b[0m\u001b[1;33m(\u001b[0m\u001b[0mself\u001b[0m\u001b[1;33m)\u001b[0m\u001b[1;33m:\u001b[0m\u001b[1;33m\u001b[0m\u001b[1;33m\u001b[0m\u001b[0m\n",
      "\u001b[1;32m~\\anaconda3\\lib\\site-packages\\pymysql\\err.py\u001b[0m in \u001b[0;36mraise_mysql_exception\u001b[1;34m(data)\u001b[0m\n\u001b[0;32m    141\u001b[0m     \u001b[1;32mif\u001b[0m \u001b[0merrorclass\u001b[0m \u001b[1;32mis\u001b[0m \u001b[1;32mNone\u001b[0m\u001b[1;33m:\u001b[0m\u001b[1;33m\u001b[0m\u001b[1;33m\u001b[0m\u001b[0m\n\u001b[0;32m    142\u001b[0m         \u001b[0merrorclass\u001b[0m \u001b[1;33m=\u001b[0m \u001b[0mInternalError\u001b[0m \u001b[1;32mif\u001b[0m \u001b[0merrno\u001b[0m \u001b[1;33m<\u001b[0m \u001b[1;36m1000\u001b[0m \u001b[1;32melse\u001b[0m \u001b[0mOperationalError\u001b[0m\u001b[1;33m\u001b[0m\u001b[1;33m\u001b[0m\u001b[0m\n\u001b[1;32m--> 143\u001b[1;33m     \u001b[1;32mraise\u001b[0m \u001b[0merrorclass\u001b[0m\u001b[1;33m(\u001b[0m\u001b[0merrno\u001b[0m\u001b[1;33m,\u001b[0m \u001b[0merrval\u001b[0m\u001b[1;33m)\u001b[0m\u001b[1;33m\u001b[0m\u001b[1;33m\u001b[0m\u001b[0m\n\u001b[0m",
      "\u001b[1;31mOperationalError\u001b[0m: (pymysql.err.OperationalError) (1054, \"Unknown column 'From' in 'field list'\")\n[SQL: INSERT INTO covid_uniprot (`From`, `Entry`, `Reviewed`, `Entry Name`, `Protein names`, `Gene Names`, `Organism`, `Length`, `Active site`, `Developmental stage`, `Interacts with`, `Sequence`) VALUES (%(From)s, %(Entry)s, %(Reviewed)s, %(Entry Name)s, %(Protein names)s, %(Gene Names)s, %(Organism)s, %(Length)s, %(Active site)s, %(Developmental stage)s, %(Interacts with)s, %(Sequence)s)]\n[parameters: ({'From': 'CHEMBL3831285', 'Entry': 'P78552', 'Reviewed': 'reviewed', 'Entry Name': 'I13R1_HUMAN', 'Protein names': 'Interleukin-13 receptor subunit alpha-1, IL-13 receptor subunit alpha-1, IL-13R subunit alpha-1, IL-13R-alpha-1, IL-13RA1 (Cancer/testis antigen 19, CT19) (CD antigen CD213a1)', 'Gene Names': 'IL13RA1 IL13R IL13RA', 'Organism': 'Homo sapiens (Human)', 'Length': 427, 'Active site': 'unknown', 'Developmental stage': 'unknown', 'Interacts with': 'P35225; P05112; Q8TDR0', 'Sequence': 'MEWPARLCGLWALLLCAGGGGGGGGAAPTETQPPVTNLSVSVENLCTVIWTWNPPEGASSNCSLWYFSHFGDKQDKKIAPETRRSIEVPLNERICLQVGSQCSTNESEKPSILVEKCISPPEGDPESAVTELQCIWHNLSYMKCSWLPG ... (129 characters truncated) ... EAKCENPEFERNVENTSCFMVPGVLPDTLNTVRIRVKTNKLCYEDDKLWSNWSQEMSIGKKRNSTLYITMLLIVPVIVAGAIIVLLLYLKRLKIIIFPPIPDPGKIFKEMFGDQNDDTLHWKKYDIYEKQTKEETDSVVLIENLKKASQ'}, {'From': 'CHEMBL3079', 'Entry': 'O60779', 'Reviewed': 'reviewed', 'Entry Name': 'S19A2_HUMAN', 'Protein names': 'Thiamine transporter 1, ThTr-1, ThTr1 (Solute carrier family 19 member 2) (Thiamine carrier 1, TC1)', 'Gene Names': 'SLC19A2 THT1 TRMA', 'Organism': 'Homo sapiens (Human)', 'Length': 497, 'Active site': 'unknown', 'Developmental stage': 'unknown', 'Interacts with': 'O60635', 'Sequence': 'MDVPGPVSRRAAAAAATVLLRTARVRRECWFLPTALLCAYGFFASLRPSEPFLTPYLLGPDKNLTEREVFNEIYPVWTYSYLVLLFPVFLATDYLRYKPVVLLQGLSLIVTWFMLLYAQGLLAIQFLEFFYGIATATEIAYYSYIYSVV ... (199 characters truncated) ... FAVGYIKISWSTWGEMTLSLFSLLIAAAVYIMDTVGNIWVCYASYVVFRIIYMLLITIATFQIAANLSMERYALVFGVNTFIALALQTLLTLIVVDASGLGLEITTQFLIYASYFALIAVVFLASGAVSVMKKCRKLEDPQSSSQVTTS'}, {'From': 'CHEMBL3885534', 'Entry': 'Q9Y376', 'Reviewed': 'reviewed', 'Entry Name': 'CAB39_HUMAN', 'Protein names': 'Calcium-binding protein 39 (MO25alpha) (Protein Mo25)', 'Gene Names': 'CAB39 MO25 CGI-66', 'Organism': 'Homo sapiens (Human)', 'Length': 341, 'Active site': 'unknown', 'Developmental stage': 'unknown', 'Interacts with': 'Q9C0F1; Q08379; P59942; O43513; O95747; P34897; Q15831; Q9Y6E0-2; O00506; Q9P289; Q9P289-1; Q9UEW8; Q7RTN6; Q7RTN6-1; Q9C0K7', 'Sequence': 'MPFPFGKSHKSPADIVKNLKESMAVLEKQDISDKKAEKATEEVSKNLVAMKEILYGTNEKEPQTEAVAQLAQELYNSGLLSTLVADLQLIDFEGKKDVAQIFNNILRRQIGTRTPTVEYICTQQNILFMLLKGYESPEIALNCGIMLRE ... (43 characters truncated) ... TRHKLLSAEFLEQHYDRFFSEYEKLLHSENYVTKRQSLKLLGELLLDRHNFTIMTKYISKPENLKLMMNLLRDKSRNIQFEAFHVFKVFVANPNKTQPILDILLKNQAKLIEFLSKFQNDRTEDEQFNDEKTYLVKQIRDLKRPAQQEA'}, {'From': 'CHEMBL5438', 'Entry': 'A8QUY6', 'Reviewed': 'unreviewed', 'Entry Name': 'A8QUY6_AERCA', 'Protein names': 'Beta-lactamase, EC 3.5.2.6', 'Gene Names': 'blaIMP-19', 'Organism': 'Aeromonas caviae (Aeromonas punctata)', 'Length': 246, 'Active site': 'unknown', 'Developmental stage': 'unknown', 'Interacts with': 'unknown', 'Sequence': 'MKKLFVLCVCFLCSITAAGAALPDLKIEKLEEGVYVHTSFEEVNGWGVVSKHGLVVLVNTDAYLIDTPFTATDTEKLVNWFVERGYKIKGTISSHFHSDSTGGIEWLNSQSIPTYASELTNELLKKDGKVQAKNSFSGVSYWLVKNKIEVFYPGPGHTQDNVVVWLPEKKILFGGCFVKPDGLGNLGDANLEAWPKSAKILMSKYVKAKLVVSSHSEIGDASLLKRTWEQAVKGLNESKKPSQPSN'}, {'From': 'CHEMBL2242734', 'Entry': 'Q9FG87', 'Reviewed': 'reviewed', 'Entry Name': 'KCS20_ARATH', 'Protein names': '3-ketoacyl-CoA synthase 20, KCS-20, EC 2.3.1.199 (Very long-chain fatty acid condensing enzyme 20, VLCFA condensing enzyme 20)', 'Gene Names': 'KCS20 KCS19 At5g43760 MQD19.11', 'Organism': 'Arabidopsis thaliana (Mouse-ear cress)', 'Length': 529, 'Active site': 'ACT_SITE 247 /evidence=\"ECO:0000250|UniProtKB:Q38860\"; ACT_SITE 326 /evidence=\"ECO:0000250|UniProtKB:Q38860\"; ACT_SITE 415 /evidence=\"ECO:0000250|UniProtKB:Q38860\"; ACT_SITE 419 /evidence=\"ECO:0000250|UniProtKB:Q38860\"; ACT_SITE 452 /evidence=\"ECO:0000250|UniProtKB:Q38860\"', 'Developmental stage': 'unknown', 'Interacts with': 'unknown', 'Sequence': 'MSHNQNQPHRPVPVHVTNAEPNPNPNNLPNFLLSVRLKYVKLGYHYLISNALYILLLPLLAATIANLSSFTINDLSLLYNTLRFHFLSATLATALLISLSTAYFTTRPRRVFLLDFSCYKPDPSLICTRETFMDRSQRVGIFTEDNLAF ... (231 characters truncated) ... MSEQLLFFATLVARKVFKVKKIKPYIPDFKLAFEHFCIHAGGRAVLDEIEKNLDLSEWHMEPSRMTLNRFGNTSSSSLWYELAYSEAKGRIKRGDRTWQIAFGSGFKCNSAVWKALRTIDPMDEKTNPWIDEIDDFPVQVPRITPITSS'}, {'From': 'CHEMBL6002', 'Entry': 'Q9BWU1', 'Reviewed': 'reviewed', 'Entry Name': 'CDK19_HUMAN', 'Protein names': 'Cyclin-dependent kinase 19, EC 2.7.11.22 (CDC2-related protein kinase 6) (Cell division cycle 2-like protein kinase 6) (Cell division protein kinase 19) (Cyclin-dependent kinase 11) (Death-preventing kinase)', 'Gene Names': 'CDK19 CDC2L6 CDK11 KIAA1028', 'Organism': 'Homo sapiens (Human)', 'Length': 502, 'Active site': 'ACT_SITE 151 /note=\"Proton acceptor\" /evidence=\"ECO:0000255|PROSITE-ProRule:PRU00159, ECO:0000255|PROSITE-ProRule:PRU10027\"', 'Developmental stage': 'unknown', 'Interacts with': 'unknown', 'Sequence': 'MDYDFKAKLAAERERVEDLFEYEGCKVGRGTYGHVYKARRKDGKDEKEYALKQIEGTGISMSACREIALLRELKHPNVIALQKVFLSHSDRKVWLLFDYAEHDLWHIIKFHRASKANKKPMQLPRSMVKSLLYQILDGIHYLHANWVLH ... (204 characters truncated) ... PKREFLNEDDPEEKGDKNQQQQQNQHQQPTAPPQQAAAPPQAPPPQQNSTQTNGTAGGAGAGVGGTGAGLQHSQDSSLNQVPPNKKPRLGPSGANSGGPVMPSDYQHSSSRLNYQSSVQGSSQSQSTLGYSSSSQQSSQYHPSHQAHRY'}, {'From': 'CHEMBL4105781', 'Entry': 'Q9P0J0', 'Reviewed': 'reviewed', 'Entry Name': 'NDUAD_HUMAN', 'Protein names': 'NADH dehydrogenase [ubiquinone] 1 alpha subcomplex subunit 13 (Cell death regulatory protein GRIM-19) (Complex I-B16.6, CI-B16.6) (Gene associated wi ... (31 characters truncated) ... ced mortality 19 protein, GRIM-19, Gene associated with retinoic and IFN-induced mortality 19 protein) (NADH-ubiquinone oxidoreductase B16.6 subunit)', 'Gene Names': 'NDUFA13 GRIM19 CDA016 CGI-39', 'Organism': 'Homo sapiens (Human)', 'Length': 144, 'Active site': 'unknown', 'Developmental stage': 'DEVELOPMENTAL STAGE: Expressed in numerous fetal tissues.', 'Interacts with': 'O43464; P42858; Q9HC29', 'Sequence': 'MAASKVKQDMPPPGGYGPIDYKRNLPRRGLSGYSMLAIGIGTLIYGHWSIMKWNRERRRLQIEDFEARIALLPLLQAETDRRTLQMLRENLEEEAIIMKDVPDWKVGESVFHTTRWVPPLIGELYGLRTTEEALHASHGFMWYT'}, {'From': 'CHEMBL3425388', 'Entry': 'P56528', 'Reviewed': 'reviewed', 'Entry Name': 'CD38_MOUSE', 'Protein names': \"ADP-ribosyl cyclase/cyclic ADP-ribose hydrolase 1, EC 3.2.2.6 (2'-phospho-ADP-ribosyl cyclase) (2'-phospho-ADP-ribosyl cyclase/2'-phospho-cyclic-ADP- ... (53 characters truncated) ... ADP-ribose transferase) (ADP-ribosyl cyclase 1, ADPRC 1) (Cyclic ADP-ribose hydrolase 1, cADPr hydrolase 1) (I-19) (NIM-R5 antigen) (CD antigen CD38)\", 'Gene Names': 'Cd38', 'Organism': 'Mus musculus (Mouse)', 'Length': 304, 'Active site': 'ACT_SITE 123 /evidence=\"ECO:0000250\"; ACT_SITE 205 /evidence=\"ECO:0000250\"', 'Developmental stage': 'unknown', 'Interacts with': 'P56528', 'Sequence': 'MANYEFSQVSGDRPGCRLSRKAQIGLGVGLLVLIALVVGIVVILLRPRSLLVWTGEPTTKHFSDIFLGRCLIYTQILRPEMRDQNCQEILSTFKGAFVSKNPCNITREDYAPLVKLVTQTIPCNKTLFWSKSKHLAHQYTWIQGKMFTL ... (6 characters truncated) ... YIADDLRWCGDPSTSDMNYVSCPHWSENCPNNPITVFWKVISQKFAEDACGVVQVMLNGSLREPFYKNSTFGSVEVFSLDPNKVHKLQAWVMHDIEGASSNACSSSSLNELKMIVQKRNMIFACVDNYRPARFLQCVKNPEHPSCRLNT'}  ... displaying 10 of 77 total bound parameter sets ...  {'From': 'CHEMBL2073675', 'Entry': 'Q8VCA0', 'Reviewed': 'reviewed', 'Entry Name': 'S22AJ_MOUSE', 'Protein names': 'Solute carrier family 22 member 19 (Organic anion transporter 5)', 'Gene Names': 'Slc22a19 Oat5 Slc22a9', 'Organism': 'Mus musculus (Mouse)', 'Length': 551, 'Active site': 'unknown', 'Developmental stage': 'unknown', 'Interacts with': 'unknown', 'Sequence': 'MAFQDLIIQIGSLGRFQILHMIFVLICHALSAPHTLLENFTAAIPSHRCWVPILDNDTASDNGSRILSQDDLLRISIPLDSNLRPDKCRRYIQPQWHLLHLNGTFPTVTEPDTEPCVDGWVYDQSTFLSTTVTQWDLVCGSQALNSVAK ... (253 characters truncated) ... MGRRMTQLIFMSVLGISILAVVFLPQEMQILRVFLSTLGGAISSASITSTLVHANELVPTIIRATALGVVGIAGSAGGALSPLLMILTTYSASLPWIIYGILPFLGGLVALLLPETKNQPLPDSIQDIENKRKSSKEAKKDVVAKVTPL'}, {'From': 'CHEMBL3885541', 'Entry': 'P15884', 'Reviewed': 'reviewed', 'Entry Name': 'ITF2_HUMAN', 'Protein names': 'Transcription factor 4, TCF-4 (Class B basic helix-loop-helix protein 19, bHLHb19) (Immunoglobulin transcription factor 2, ITF-2) (SL3-3 enhancer factor 2, SEF-2)', 'Gene Names': 'TCF4 BHLHB19 ITF2 SEF2', 'Organism': 'Homo sapiens (Human)', 'Length': 667, 'Active site': 'unknown', 'Developmental stage': 'unknown', 'Interacts with': 'P29972; Q92888; Q9H6L4; P50553; Q6XD76; Q9BZE9; P21281; O75934; Q92843; Q9NX04; Q9NP86; P38936; P42773; Q6ZQR2; Q13111; Q9Y6H1; Q9UKJ5; P61024; P3522 ... (1690 characters truncated) ...  Q9H0W8; Q9Y5K1-2; Q9BX59; Q7RTU1; Q7RTU0; Q9UL33-2; Q6AZZ1; Q8N7C3; Q5T7W7; Q9UNY4-2; Q8TF42; Q6UX98; O75800; Q15973; Q96SQ5; A0A0S2Z5X4; A0A0S2Z6P0', 'Sequence': 'MHHQQRMAALGTDKELSDLLDFSAMFSPPVSSGKNGPTSLASGHFTGSNVEDRSSSGSWGNGGHPSPSRNYGDGTPYDHMTSRDLGSHDNLSPPFVNSRIQSKTERGSYSSYGRESNLQGCHQQSLLGGDMDMGNPGTLSPTKPGSQYY ... (369 characters truncated) ... GDENLQDTKSSEDKKLDDDKKDIKSITSNNDDEDLTPEQKAEREKERRMANNARERLRVRDINEAFKELGRMVQLHLKSDKPQTKLLILHQAVAVILSLEQQVRERNLNPKAACLKRREEEKVSSEPPPLSLAGPHPGMGDASNHMGQM'})]\n(Background on this error at: http://sqlalche.me/e/14/e3q8)"
     ]
    }
   ],
   "source": [
    "# load the uniprot dataframe in mysql\n",
    "\n",
    "(\n",
    "uniprot\n",
    "    .replace({np.nan},'unknown')\n",
    "    .to_sql('covid_uniprot', if_exists='append', con=con, index=False)\n",
    ")"
   ]
  },
  {
   "cell_type": "code",
   "execution_count": 154,
   "metadata": {},
   "outputs": [],
   "source": [
    "# load the covid_chembl dataframe in mysql\n",
    "\n",
    "covid_chembl.to_sql('covid_chembl', con=con, if_exists='append', index=False)"
   ]
  },
  {
   "cell_type": "code",
   "execution_count": 155,
   "metadata": {},
   "outputs": [],
   "source": [
    "# load the assay dataframe in mysql\n",
    "\n",
    "assay.to_sql('assay', con=con, if_exists='append', index=False)"
   ]
  },
  {
   "cell_type": "code",
   "execution_count": 204,
   "metadata": {},
   "outputs": [],
   "source": [
    "# load the activity dataframe in mysql\n",
    "(\n",
    "     activity.copy()\n",
    "    .replace({np.nan},'unknown')\n",
    "    #.assign(year = lambda x: pd.to_datetime(x['document_year']))\n",
    "    .to_sql('activity', if_exists='append', con=con, index=False)\n",
    ")\n"
   ]
  },
  {
   "cell_type": "code",
   "execution_count": 157,
   "metadata": {},
   "outputs": [],
   "source": [
    "# load the targets_overview dataframe in mysql\n",
    "\n",
    "targets_overview.to_sql('targets_overview', con=con, if_exists='append', index=False)"
   ]
  }
 ],
 "metadata": {
  "colab": {
   "name": "ELT_Covid-19.ipynb",
   "provenance": []
  },
  "kernelspec": {
   "display_name": "Python 3",
   "language": "python",
   "name": "python3"
  },
  "language_info": {
   "codemirror_mode": {
    "name": "ipython",
    "version": 3
   },
   "file_extension": ".py",
   "mimetype": "text/x-python",
   "name": "python",
   "nbconvert_exporter": "python",
   "pygments_lexer": "ipython3",
   "version": "3.8.8"
  }
 },
 "nbformat": 4,
 "nbformat_minor": 1
}
